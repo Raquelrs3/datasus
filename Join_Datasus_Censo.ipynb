{
 "cells": [
  {
   "cell_type": "code",
   "execution_count": 1,
   "metadata": {
    "id": "5pxHPNj7Fwel"
   },
   "outputs": [],
   "source": [
    "import pandas as pd"
   ]
  },
  {
   "cell_type": "code",
   "execution_count": 2,
   "metadata": {
    "id": "2_wbEc7e60kD"
   },
   "outputs": [],
   "source": [
    "df_agrupado = pd.read_csv(\"df_agrupado.csv\",low_memory = False)\n"
   ]
  },
  {
   "cell_type": "code",
   "execution_count": 3,
   "metadata": {
    "id": "UALb0mmQF63q"
   },
   "outputs": [],
   "source": [
    "censo_demografico = pd.read_csv(\"CENSO_DEMOGRAFICO_2022.csv\", sep=\";\", encoding=\"latin1\")"
   ]
  },
  {
   "cell_type": "code",
   "execution_count": 4,
   "metadata": {
    "colab": {
     "base_uri": "https://localhost:8080/",
     "height": 290
    },
    "id": "nYCQK4oHGRAL",
    "outputId": "6decb1e9-6312-4eb8-f333-6403164ab3bb"
   },
   "outputs": [
    {
     "data": {
      "text/html": [
       "<div>\n",
       "<style scoped>\n",
       "    .dataframe tbody tr th:only-of-type {\n",
       "        vertical-align: middle;\n",
       "    }\n",
       "\n",
       "    .dataframe tbody tr th {\n",
       "        vertical-align: top;\n",
       "    }\n",
       "\n",
       "    .dataframe thead th {\n",
       "        text-align: right;\n",
       "    }\n",
       "</style>\n",
       "<table border=\"1\" class=\"dataframe\">\n",
       "  <thead>\n",
       "    <tr style=\"text-align: right;\">\n",
       "      <th></th>\n",
       "      <th>qa_município</th>\n",
       "      <th>qa_ações_de_promoção_e_prevenção_em_saúde</th>\n",
       "      <th>qa_procedimentos_com_finalidade_diagnóstica</th>\n",
       "      <th>qa_procedimentos_clínicos</th>\n",
       "      <th>qa_procedimentos_cirúrgicos</th>\n",
       "      <th>qa_transplantes_de_orgãos_tecidos_e_células</th>\n",
       "      <th>qa_medicamentos</th>\n",
       "      <th>qa_órteses_próteses_e_materiais_especiais</th>\n",
       "      <th>qa_ações_complementares_da_atenção_à_saúde</th>\n",
       "      <th>qa_total</th>\n",
       "      <th>...</th>\n",
       "      <th>va_procedimentos_cirúrgicos</th>\n",
       "      <th>va_transplantes_de_orgãos_tecidos_e_células</th>\n",
       "      <th>va_medicamentos</th>\n",
       "      <th>va_órteses_próteses_e_materiais_especiais</th>\n",
       "      <th>va_ações_complementares_da_atenção_à_saúde</th>\n",
       "      <th>va_total</th>\n",
       "      <th>va_período</th>\n",
       "      <th>va_mês</th>\n",
       "      <th>va_ano</th>\n",
       "      <th>va_dia_mês</th>\n",
       "    </tr>\n",
       "  </thead>\n",
       "  <tbody>\n",
       "    <tr>\n",
       "      <th>0</th>\n",
       "      <td>TOTAL</td>\n",
       "      <td>211</td>\n",
       "      <td>13531483</td>\n",
       "      <td>10103301</td>\n",
       "      <td>962775</td>\n",
       "      <td>41317</td>\n",
       "      <td>250768</td>\n",
       "      <td>220658</td>\n",
       "      <td>3516251</td>\n",
       "      <td>28626764</td>\n",
       "      <td>...</td>\n",
       "      <td>3.959128e+08</td>\n",
       "      <td>54748172.55</td>\n",
       "      <td>7724936.34</td>\n",
       "      <td>1.205044e+08</td>\n",
       "      <td>3.139780e+08</td>\n",
       "      <td>1.288274e+09</td>\n",
       "      <td>Jan/2019</td>\n",
       "      <td>Jan</td>\n",
       "      <td>2019.0</td>\n",
       "      <td>1.0</td>\n",
       "    </tr>\n",
       "    <tr>\n",
       "      <th>1</th>\n",
       "      <td>110001 ALTA FLORESTA D'OESTE</td>\n",
       "      <td>0</td>\n",
       "      <td>0</td>\n",
       "      <td>125</td>\n",
       "      <td>7</td>\n",
       "      <td>0</td>\n",
       "      <td>0</td>\n",
       "      <td>0</td>\n",
       "      <td>51</td>\n",
       "      <td>183</td>\n",
       "      <td>...</td>\n",
       "      <td>3.087890e+03</td>\n",
       "      <td>0.00</td>\n",
       "      <td>0.00</td>\n",
       "      <td>0.000000e+00</td>\n",
       "      <td>4.080000e+02</td>\n",
       "      <td>4.139352e+04</td>\n",
       "      <td>Jan/2019</td>\n",
       "      <td>Jan</td>\n",
       "      <td>2019.0</td>\n",
       "      <td>1.0</td>\n",
       "    </tr>\n",
       "    <tr>\n",
       "      <th>2</th>\n",
       "      <td>110002 ARIQUEMES</td>\n",
       "      <td>0</td>\n",
       "      <td>136</td>\n",
       "      <td>2888</td>\n",
       "      <td>859</td>\n",
       "      <td>0</td>\n",
       "      <td>14</td>\n",
       "      <td>4</td>\n",
       "      <td>1147</td>\n",
       "      <td>5048</td>\n",
       "      <td>...</td>\n",
       "      <td>9.941385e+04</td>\n",
       "      <td>0.00</td>\n",
       "      <td>1037.96</td>\n",
       "      <td>0.000000e+00</td>\n",
       "      <td>1.184678e+05</td>\n",
       "      <td>3.483053e+05</td>\n",
       "      <td>Jan/2019</td>\n",
       "      <td>Jan</td>\n",
       "      <td>2019.0</td>\n",
       "      <td>1.0</td>\n",
       "    </tr>\n",
       "    <tr>\n",
       "      <th>3</th>\n",
       "      <td>110003 CABIXI</td>\n",
       "      <td>0</td>\n",
       "      <td>20</td>\n",
       "      <td>20</td>\n",
       "      <td>0</td>\n",
       "      <td>0</td>\n",
       "      <td>0</td>\n",
       "      <td>0</td>\n",
       "      <td>12</td>\n",
       "      <td>52</td>\n",
       "      <td>...</td>\n",
       "      <td>0.000000e+00</td>\n",
       "      <td>0.00</td>\n",
       "      <td>0.00</td>\n",
       "      <td>0.000000e+00</td>\n",
       "      <td>9.600000e+01</td>\n",
       "      <td>6.077970e+03</td>\n",
       "      <td>Jan/2019</td>\n",
       "      <td>Jan</td>\n",
       "      <td>2019.0</td>\n",
       "      <td>1.0</td>\n",
       "    </tr>\n",
       "    <tr>\n",
       "      <th>4</th>\n",
       "      <td>110004 CACOAL</td>\n",
       "      <td>0</td>\n",
       "      <td>8870</td>\n",
       "      <td>15976</td>\n",
       "      <td>924</td>\n",
       "      <td>2</td>\n",
       "      <td>5</td>\n",
       "      <td>95</td>\n",
       "      <td>2556</td>\n",
       "      <td>28428</td>\n",
       "      <td>...</td>\n",
       "      <td>3.127775e+05</td>\n",
       "      <td>1914.76</td>\n",
       "      <td>466.40</td>\n",
       "      <td>3.144675e+04</td>\n",
       "      <td>3.632854e+05</td>\n",
       "      <td>1.047683e+06</td>\n",
       "      <td>Jan/2019</td>\n",
       "      <td>Jan</td>\n",
       "      <td>2019.0</td>\n",
       "      <td>1.0</td>\n",
       "    </tr>\n",
       "  </tbody>\n",
       "</table>\n",
       "<p>5 rows × 27 columns</p>\n",
       "</div>"
      ],
      "text/plain": [
       "                   qa_município  qa_ações_de_promoção_e_prevenção_em_saúde  \\\n",
       "0                         TOTAL                                        211   \n",
       "1  110001 ALTA FLORESTA D'OESTE                                          0   \n",
       "2              110002 ARIQUEMES                                          0   \n",
       "3                 110003 CABIXI                                          0   \n",
       "4                 110004 CACOAL                                          0   \n",
       "\n",
       "   qa_procedimentos_com_finalidade_diagnóstica  qa_procedimentos_clínicos  \\\n",
       "0                                     13531483                   10103301   \n",
       "1                                            0                        125   \n",
       "2                                          136                       2888   \n",
       "3                                           20                         20   \n",
       "4                                         8870                      15976   \n",
       "\n",
       "   qa_procedimentos_cirúrgicos  qa_transplantes_de_orgãos_tecidos_e_células  \\\n",
       "0                       962775                                        41317   \n",
       "1                            7                                            0   \n",
       "2                          859                                            0   \n",
       "3                            0                                            0   \n",
       "4                          924                                            2   \n",
       "\n",
       "   qa_medicamentos  qa_órteses_próteses_e_materiais_especiais  \\\n",
       "0           250768                                     220658   \n",
       "1                0                                          0   \n",
       "2               14                                          4   \n",
       "3                0                                          0   \n",
       "4                5                                         95   \n",
       "\n",
       "   qa_ações_complementares_da_atenção_à_saúde  qa_total  ...  \\\n",
       "0                                     3516251  28626764  ...   \n",
       "1                                          51       183  ...   \n",
       "2                                        1147      5048  ...   \n",
       "3                                          12        52  ...   \n",
       "4                                        2556     28428  ...   \n",
       "\n",
       "  va_procedimentos_cirúrgicos va_transplantes_de_orgãos_tecidos_e_células  \\\n",
       "0                3.959128e+08                                 54748172.55   \n",
       "1                3.087890e+03                                        0.00   \n",
       "2                9.941385e+04                                        0.00   \n",
       "3                0.000000e+00                                        0.00   \n",
       "4                3.127775e+05                                     1914.76   \n",
       "\n",
       "   va_medicamentos  va_órteses_próteses_e_materiais_especiais  \\\n",
       "0       7724936.34                               1.205044e+08   \n",
       "1             0.00                               0.000000e+00   \n",
       "2          1037.96                               0.000000e+00   \n",
       "3             0.00                               0.000000e+00   \n",
       "4           466.40                               3.144675e+04   \n",
       "\n",
       "  va_ações_complementares_da_atenção_à_saúde      va_total  va_período  \\\n",
       "0                               3.139780e+08  1.288274e+09    Jan/2019   \n",
       "1                               4.080000e+02  4.139352e+04    Jan/2019   \n",
       "2                               1.184678e+05  3.483053e+05    Jan/2019   \n",
       "3                               9.600000e+01  6.077970e+03    Jan/2019   \n",
       "4                               3.632854e+05  1.047683e+06    Jan/2019   \n",
       "\n",
       "   va_mês  va_ano  va_dia_mês  \n",
       "0     Jan  2019.0         1.0  \n",
       "1     Jan  2019.0         1.0  \n",
       "2     Jan  2019.0         1.0  \n",
       "3     Jan  2019.0         1.0  \n",
       "4     Jan  2019.0         1.0  \n",
       "\n",
       "[5 rows x 27 columns]"
      ]
     },
     "execution_count": 4,
     "metadata": {},
     "output_type": "execute_result"
    }
   ],
   "source": [
    "df_agrupado.head()"
   ]
  },
  {
   "cell_type": "code",
   "execution_count": 5,
   "metadata": {
    "colab": {
     "base_uri": "https://localhost:8080/"
    },
    "id": "WP3CA81HHCGj",
    "outputId": "b0bf6cfd-6881-4538-a1c8-7729761476aa"
   },
   "outputs": [
    {
     "data": {
      "text/plain": [
       "array(['TOTAL', \"110001 ALTA FLORESTA D'OESTE\", '110002 ARIQUEMES', ...,\n",
       "       '410160 ARAPOTI', '171700 PINDORAMA DO TOCANTINS',\n",
       "       \"110148 SAO FELIPE D'OESTE\"], dtype=object)"
      ]
     },
     "execution_count": 5,
     "metadata": {},
     "output_type": "execute_result"
    }
   ],
   "source": [
    "df_agrupado[\"qa_município\"].unique()"
   ]
  },
  {
   "cell_type": "code",
   "execution_count": 6,
   "metadata": {
    "colab": {
     "base_uri": "https://localhost:8080/",
     "height": 244
    },
    "id": "EIYxGocQGUAt",
    "outputId": "be981ea8-0727-4499-d9de-60f0227902a7"
   },
   "outputs": [
    {
     "data": {
      "text/html": [
       "<div>\n",
       "<style scoped>\n",
       "    .dataframe tbody tr th:only-of-type {\n",
       "        vertical-align: middle;\n",
       "    }\n",
       "\n",
       "    .dataframe tbody tr th {\n",
       "        vertical-align: top;\n",
       "    }\n",
       "\n",
       "    .dataframe thead th {\n",
       "        text-align: right;\n",
       "    }\n",
       "</style>\n",
       "<table border=\"1\" class=\"dataframe\">\n",
       "  <thead>\n",
       "    <tr style=\"text-align: right;\">\n",
       "      <th></th>\n",
       "      <th>Codigo_Municipio_DV</th>\n",
       "      <th>CODIGO_MUNICIPIO</th>\n",
       "      <th>Nome_Municipio</th>\n",
       "      <th>UF</th>\n",
       "      <th>UF_Codigo</th>\n",
       "      <th>UF_Nome</th>\n",
       "      <th>Municipio_Capital</th>\n",
       "      <th>Regiao_Codigo</th>\n",
       "      <th>Regiao_Nome</th>\n",
       "      <th>LONGITUDE</th>\n",
       "      <th>LATITUDE</th>\n",
       "      <th>NU_Populacao</th>\n",
       "      <th>Nome_municipio_em_2022</th>\n",
       "    </tr>\n",
       "  </thead>\n",
       "  <tbody>\n",
       "    <tr>\n",
       "      <th>0</th>\n",
       "      <td>1100015</td>\n",
       "      <td>110001</td>\n",
       "      <td>Alta Floresta D'Oeste</td>\n",
       "      <td>RO</td>\n",
       "      <td>11</td>\n",
       "      <td>Rondônia</td>\n",
       "      <td>Não</td>\n",
       "      <td>1</td>\n",
       "      <td>Norte</td>\n",
       "      <td>-61.999824</td>\n",
       "      <td>-11.935540</td>\n",
       "      <td>21495</td>\n",
       "      <td>Alta Floresta d`Oeste</td>\n",
       "    </tr>\n",
       "    <tr>\n",
       "      <th>1</th>\n",
       "      <td>1100023</td>\n",
       "      <td>110002</td>\n",
       "      <td>Ariquemes</td>\n",
       "      <td>RO</td>\n",
       "      <td>11</td>\n",
       "      <td>Rondônia</td>\n",
       "      <td>Não</td>\n",
       "      <td>1</td>\n",
       "      <td>Norte</td>\n",
       "      <td>-63.033269</td>\n",
       "      <td>-9.908463</td>\n",
       "      <td>96833</td>\n",
       "      <td>Ariquemes</td>\n",
       "    </tr>\n",
       "    <tr>\n",
       "      <th>2</th>\n",
       "      <td>1100031</td>\n",
       "      <td>110003</td>\n",
       "      <td>Cabixi</td>\n",
       "      <td>RO</td>\n",
       "      <td>11</td>\n",
       "      <td>Rondônia</td>\n",
       "      <td>Não</td>\n",
       "      <td>1</td>\n",
       "      <td>Norte</td>\n",
       "      <td>-60.544314</td>\n",
       "      <td>-13.499763</td>\n",
       "      <td>5363</td>\n",
       "      <td>Cabixi</td>\n",
       "    </tr>\n",
       "    <tr>\n",
       "      <th>3</th>\n",
       "      <td>1100049</td>\n",
       "      <td>110004</td>\n",
       "      <td>Cacoal</td>\n",
       "      <td>RO</td>\n",
       "      <td>11</td>\n",
       "      <td>Rondônia</td>\n",
       "      <td>Não</td>\n",
       "      <td>1</td>\n",
       "      <td>Norte</td>\n",
       "      <td>-61.442944</td>\n",
       "      <td>-11.433865</td>\n",
       "      <td>86895</td>\n",
       "      <td>Cacoal</td>\n",
       "    </tr>\n",
       "    <tr>\n",
       "      <th>4</th>\n",
       "      <td>1100056</td>\n",
       "      <td>110005</td>\n",
       "      <td>Cerejeiras</td>\n",
       "      <td>RO</td>\n",
       "      <td>11</td>\n",
       "      <td>Rondônia</td>\n",
       "      <td>Não</td>\n",
       "      <td>1</td>\n",
       "      <td>Norte</td>\n",
       "      <td>-60.818426</td>\n",
       "      <td>-13.195033</td>\n",
       "      <td>15890</td>\n",
       "      <td>Cerejeiras</td>\n",
       "    </tr>\n",
       "  </tbody>\n",
       "</table>\n",
       "</div>"
      ],
      "text/plain": [
       "   Codigo_Municipio_DV  CODIGO_MUNICIPIO         Nome_Municipio  UF  \\\n",
       "0              1100015            110001  Alta Floresta D'Oeste  RO   \n",
       "1              1100023            110002              Ariquemes  RO   \n",
       "2              1100031            110003                 Cabixi  RO   \n",
       "3              1100049            110004                 Cacoal  RO   \n",
       "4              1100056            110005             Cerejeiras  RO   \n",
       "\n",
       "   UF_Codigo   UF_Nome Municipio_Capital  Regiao_Codigo Regiao_Nome  \\\n",
       "0         11  Rondônia               Não              1       Norte   \n",
       "1         11  Rondônia               Não              1       Norte   \n",
       "2         11  Rondônia               Não              1       Norte   \n",
       "3         11  Rondônia               Não              1       Norte   \n",
       "4         11  Rondônia               Não              1       Norte   \n",
       "\n",
       "   LONGITUDE   LATITUDE  NU_Populacao Nome_municipio_em_2022  \n",
       "0 -61.999824 -11.935540         21495  Alta Floresta d`Oeste  \n",
       "1 -63.033269  -9.908463         96833              Ariquemes  \n",
       "2 -60.544314 -13.499763          5363                 Cabixi  \n",
       "3 -61.442944 -11.433865         86895                 Cacoal  \n",
       "4 -60.818426 -13.195033         15890             Cerejeiras  "
      ]
     },
     "execution_count": 6,
     "metadata": {},
     "output_type": "execute_result"
    }
   ],
   "source": [
    "censo_demografico.head()"
   ]
  },
  {
   "cell_type": "code",
   "execution_count": 7,
   "metadata": {
    "colab": {
     "base_uri": "https://localhost:8080/"
    },
    "id": "iKcLVgu1Gidl",
    "outputId": "88508d6b-da23-43c8-f157-17bc04d7d3bb"
   },
   "outputs": [
    {
     "data": {
      "text/plain": [
       "Index(['qa_município', 'qa_ações_de_promoção_e_prevenção_em_saúde',\n",
       "       'qa_procedimentos_com_finalidade_diagnóstica',\n",
       "       'qa_procedimentos_clínicos', 'qa_procedimentos_cirúrgicos',\n",
       "       'qa_transplantes_de_orgãos_tecidos_e_células', 'qa_medicamentos',\n",
       "       'qa_órteses_próteses_e_materiais_especiais',\n",
       "       'qa_ações_complementares_da_atenção_à_saúde', 'qa_total', 'qa_período',\n",
       "       'qa_mês', 'qa_ano', 'qa_dia_mês', 'va_município',\n",
       "       'va_procedimentos_com_finalidade_diagnóstica',\n",
       "       'va_procedimentos_clínicos', 'va_procedimentos_cirúrgicos',\n",
       "       'va_transplantes_de_orgãos_tecidos_e_células', 'va_medicamentos',\n",
       "       'va_órteses_próteses_e_materiais_especiais',\n",
       "       'va_ações_complementares_da_atenção_à_saúde', 'va_total', 'va_período',\n",
       "       'va_mês', 'va_ano', 'va_dia_mês'],\n",
       "      dtype='object')"
      ]
     },
     "execution_count": 7,
     "metadata": {},
     "output_type": "execute_result"
    }
   ],
   "source": [
    "df_agrupado.columns"
   ]
  },
  {
   "cell_type": "code",
   "execution_count": 8,
   "metadata": {
    "colab": {
     "base_uri": "https://localhost:8080/"
    },
    "id": "cmWzJAcXOgd3",
    "outputId": "8afbbd90-9656-4f49-e203-e6e24a750ee6"
   },
   "outputs": [
    {
     "data": {
      "text/plain": [
       "qa_município                                    object\n",
       "qa_ações_de_promoção_e_prevenção_em_saúde        int64\n",
       "qa_procedimentos_com_finalidade_diagnóstica      int64\n",
       "qa_procedimentos_clínicos                        int64\n",
       "qa_procedimentos_cirúrgicos                      int64\n",
       "qa_transplantes_de_orgãos_tecidos_e_células      int64\n",
       "qa_medicamentos                                  int64\n",
       "qa_órteses_próteses_e_materiais_especiais        int64\n",
       "qa_ações_complementares_da_atenção_à_saúde       int64\n",
       "qa_total                                         int64\n",
       "qa_período                                      object\n",
       "qa_mês                                          object\n",
       "qa_ano                                           int64\n",
       "qa_dia_mês                                       int64\n",
       "va_município                                    object\n",
       "va_procedimentos_com_finalidade_diagnóstica    float64\n",
       "va_procedimentos_clínicos                      float64\n",
       "va_procedimentos_cirúrgicos                    float64\n",
       "va_transplantes_de_orgãos_tecidos_e_células    float64\n",
       "va_medicamentos                                float64\n",
       "va_órteses_próteses_e_materiais_especiais      float64\n",
       "va_ações_complementares_da_atenção_à_saúde     float64\n",
       "va_total                                       float64\n",
       "va_período                                      object\n",
       "va_mês                                          object\n",
       "va_ano                                         float64\n",
       "va_dia_mês                                     float64\n",
       "dtype: object"
      ]
     },
     "execution_count": 8,
     "metadata": {},
     "output_type": "execute_result"
    }
   ],
   "source": [
    "df_agrupado.dtypes"
   ]
  },
  {
   "cell_type": "code",
   "execution_count": 9,
   "metadata": {
    "id": "dYPrG_vlQRs2"
   },
   "outputs": [],
   "source": [
    "# Remover todas as linhas onde o valor 'TOTAL' está presente em qualquer coluna\n",
    "df_agrupado = df_agrupado[~df_agrupado.eq('TOTAL').any(axis=1)]\n"
   ]
  },
  {
   "cell_type": "code",
   "execution_count": 10,
   "metadata": {
    "colab": {
     "base_uri": "https://localhost:8080/"
    },
    "id": "v6z4UNzQRSzo",
    "outputId": "4aa3e2ea-624e-4f5a-b9f1-7a8838551092"
   },
   "outputs": [
    {
     "data": {
      "text/plain": [
       "qa_município                                   0\n",
       "qa_ações_de_promoção_e_prevenção_em_saúde      0\n",
       "qa_procedimentos_com_finalidade_diagnóstica    0\n",
       "qa_procedimentos_clínicos                      0\n",
       "qa_procedimentos_cirúrgicos                    0\n",
       "qa_transplantes_de_orgãos_tecidos_e_células    0\n",
       "qa_medicamentos                                0\n",
       "qa_órteses_próteses_e_materiais_especiais      0\n",
       "qa_ações_complementares_da_atenção_à_saúde     0\n",
       "qa_total                                       0\n",
       "qa_período                                     0\n",
       "qa_mês                                         0\n",
       "qa_ano                                         0\n",
       "qa_dia_mês                                     0\n",
       "va_município                                   1\n",
       "va_procedimentos_com_finalidade_diagnóstica    1\n",
       "va_procedimentos_clínicos                      1\n",
       "va_procedimentos_cirúrgicos                    1\n",
       "va_transplantes_de_orgãos_tecidos_e_células    1\n",
       "va_medicamentos                                1\n",
       "va_órteses_próteses_e_materiais_especiais      1\n",
       "va_ações_complementares_da_atenção_à_saúde     1\n",
       "va_total                                       1\n",
       "va_período                                     1\n",
       "va_mês                                         1\n",
       "va_ano                                         1\n",
       "va_dia_mês                                     1\n",
       "dtype: int64"
      ]
     },
     "execution_count": 10,
     "metadata": {},
     "output_type": "execute_result"
    }
   ],
   "source": [
    "df_agrupado.isna().sum()"
   ]
  },
  {
   "cell_type": "code",
   "execution_count": 11,
   "metadata": {
    "id": "qJLSKzfmRnC2"
   },
   "outputs": [],
   "source": [
    "# Remover linhas com valores nulos\n",
    "df_agrupado = df_agrupado.dropna()\n"
   ]
  },
  {
   "cell_type": "code",
   "execution_count": 12,
   "metadata": {
    "colab": {
     "base_uri": "https://localhost:8080/"
    },
    "id": "cmsXwZLbGeol",
    "outputId": "414977f4-5f3a-4f73-8366-c777cadb98fc"
   },
   "outputs": [
    {
     "data": {
      "text/plain": [
       "Index(['Codigo_Municipio_DV', 'CODIGO_MUNICIPIO', 'Nome_Municipio', 'UF',\n",
       "       'UF_Codigo', 'UF_Nome', 'Municipio_Capital', 'Regiao_Codigo',\n",
       "       'Regiao_Nome', 'LONGITUDE', 'LATITUDE', 'NU_Populacao',\n",
       "       'Nome_municipio_em_2022'],\n",
       "      dtype='object')"
      ]
     },
     "execution_count": 12,
     "metadata": {},
     "output_type": "execute_result"
    }
   ],
   "source": [
    "censo_demografico.columns"
   ]
  },
  {
   "cell_type": "markdown",
   "metadata": {
    "id": "J6F7Zw8nI5I_"
   },
   "source": [
    "### Montando uma nova coluna - codigo municipio"
   ]
  },
  {
   "cell_type": "code",
   "execution_count": 13,
   "metadata": {
    "id": "Y7cr-wONI4Gm"
   },
   "outputs": [],
   "source": [
    "# Extrair o código do município e criar uma nova coluna\n",
    "df_agrupado['qa_código_município'] = df_agrupado['qa_município'].str.slice(0, 6)\n",
    "df_agrupado['va_código_município'] = df_agrupado['va_município'].str.slice(0, 6)"
   ]
  },
  {
   "cell_type": "code",
   "execution_count": 14,
   "metadata": {
    "id": "9EIID-PeJw0x"
   },
   "outputs": [],
   "source": [
    "# Remover os códigos da coluna original\n",
    "df_agrupado['qa_município'] = df_agrupado['qa_município'].str.slice(7)\n",
    "df_agrupado['va_município'] = df_agrupado['va_município'].str.slice(7)"
   ]
  },
  {
   "cell_type": "markdown",
   "metadata": {},
   "source": [
    "### Dtypes"
   ]
  },
  {
   "cell_type": "code",
   "execution_count": 15,
   "metadata": {},
   "outputs": [],
   "source": [
    "df_agrupado['qa_código_município'] = df_agrupado['qa_código_município'].astype(int)\n",
    "df_agrupado['va_código_município'] = df_agrupado['va_código_município'].astype(int)\n",
    "df_agrupado['qa_ano'] = df_agrupado['qa_ano'].astype(int)\n",
    "df_agrupado['va_dia_mês'] = df_agrupado['va_dia_mês'].astype(int)\n",
    "df_agrupado['va_ano'] = df_agrupado['va_ano'].astype(int)"
   ]
  },
  {
   "cell_type": "code",
   "execution_count": 17,
   "metadata": {},
   "outputs": [
    {
     "data": {
      "text/plain": [
       "qa_município                                    object\n",
       "qa_ações_de_promoção_e_prevenção_em_saúde        int64\n",
       "qa_procedimentos_com_finalidade_diagnóstica      int64\n",
       "qa_procedimentos_clínicos                        int64\n",
       "qa_procedimentos_cirúrgicos                      int64\n",
       "qa_transplantes_de_orgãos_tecidos_e_células      int64\n",
       "qa_medicamentos                                  int64\n",
       "qa_órteses_próteses_e_materiais_especiais        int64\n",
       "qa_ações_complementares_da_atenção_à_saúde       int64\n",
       "qa_total                                         int64\n",
       "qa_período                                      object\n",
       "qa_mês                                          object\n",
       "qa_ano                                           int64\n",
       "qa_dia_mês                                       int64\n",
       "va_município                                    object\n",
       "va_procedimentos_com_finalidade_diagnóstica    float64\n",
       "va_procedimentos_clínicos                      float64\n",
       "va_procedimentos_cirúrgicos                    float64\n",
       "va_transplantes_de_orgãos_tecidos_e_células    float64\n",
       "va_medicamentos                                float64\n",
       "va_órteses_próteses_e_materiais_especiais      float64\n",
       "va_ações_complementares_da_atenção_à_saúde     float64\n",
       "va_total                                       float64\n",
       "va_período                                      object\n",
       "va_mês                                          object\n",
       "va_ano                                           int64\n",
       "va_dia_mês                                       int64\n",
       "qa_código_município                              int64\n",
       "va_código_município                              int64\n",
       "dtype: object"
      ]
     },
     "execution_count": 17,
     "metadata": {},
     "output_type": "execute_result"
    }
   ],
   "source": [
    "df_agrupado.dtypes"
   ]
  },
  {
   "cell_type": "markdown",
   "metadata": {
    "id": "NTw8YeSpN-Lo"
   },
   "source": [
    "# Inner Join"
   ]
  },
  {
   "cell_type": "code",
   "execution_count": 18,
   "metadata": {
    "id": "KwWZkG9XN-bG"
   },
   "outputs": [],
   "source": [
    "Dados_Datasus_Censo = pd.merge(df_agrupado, censo_demografico[['CODIGO_MUNICIPIO', 'LONGITUDE', 'LATITUDE', 'NU_Populacao']], left_on='qa_código_município', right_on='CODIGO_MUNICIPIO', how='inner')\n"
   ]
  },
  {
   "cell_type": "code",
   "execution_count": 19,
   "metadata": {
    "colab": {
     "base_uri": "https://localhost:8080/",
     "height": 429
    },
    "id": "2lmjdTWBRum_",
    "outputId": "97898c7c-7337-431f-d1c9-8374e1c13d6e"
   },
   "outputs": [
    {
     "data": {
      "text/html": [
       "<div>\n",
       "<style scoped>\n",
       "    .dataframe tbody tr th:only-of-type {\n",
       "        vertical-align: middle;\n",
       "    }\n",
       "\n",
       "    .dataframe tbody tr th {\n",
       "        vertical-align: top;\n",
       "    }\n",
       "\n",
       "    .dataframe thead th {\n",
       "        text-align: right;\n",
       "    }\n",
       "</style>\n",
       "<table border=\"1\" class=\"dataframe\">\n",
       "  <thead>\n",
       "    <tr style=\"text-align: right;\">\n",
       "      <th></th>\n",
       "      <th>qa_município</th>\n",
       "      <th>qa_ações_de_promoção_e_prevenção_em_saúde</th>\n",
       "      <th>qa_procedimentos_com_finalidade_diagnóstica</th>\n",
       "      <th>qa_procedimentos_clínicos</th>\n",
       "      <th>qa_procedimentos_cirúrgicos</th>\n",
       "      <th>qa_transplantes_de_orgãos_tecidos_e_células</th>\n",
       "      <th>qa_medicamentos</th>\n",
       "      <th>qa_órteses_próteses_e_materiais_especiais</th>\n",
       "      <th>qa_ações_complementares_da_atenção_à_saúde</th>\n",
       "      <th>qa_total</th>\n",
       "      <th>...</th>\n",
       "      <th>va_período</th>\n",
       "      <th>va_mês</th>\n",
       "      <th>va_ano</th>\n",
       "      <th>va_dia_mês</th>\n",
       "      <th>qa_código_município</th>\n",
       "      <th>va_código_município</th>\n",
       "      <th>CODIGO_MUNICIPIO</th>\n",
       "      <th>LONGITUDE</th>\n",
       "      <th>LATITUDE</th>\n",
       "      <th>NU_Populacao</th>\n",
       "    </tr>\n",
       "  </thead>\n",
       "  <tbody>\n",
       "    <tr>\n",
       "      <th>0</th>\n",
       "      <td>ALTA FLORESTA D'OESTE</td>\n",
       "      <td>0</td>\n",
       "      <td>0</td>\n",
       "      <td>125</td>\n",
       "      <td>7</td>\n",
       "      <td>0</td>\n",
       "      <td>0</td>\n",
       "      <td>0</td>\n",
       "      <td>51</td>\n",
       "      <td>183</td>\n",
       "      <td>...</td>\n",
       "      <td>Jan/2019</td>\n",
       "      <td>Jan</td>\n",
       "      <td>2019</td>\n",
       "      <td>1</td>\n",
       "      <td>110001</td>\n",
       "      <td>110001</td>\n",
       "      <td>110001</td>\n",
       "      <td>-61.999824</td>\n",
       "      <td>-11.935540</td>\n",
       "      <td>21495</td>\n",
       "    </tr>\n",
       "    <tr>\n",
       "      <th>1</th>\n",
       "      <td>ARIQUEMES</td>\n",
       "      <td>0</td>\n",
       "      <td>136</td>\n",
       "      <td>2888</td>\n",
       "      <td>859</td>\n",
       "      <td>0</td>\n",
       "      <td>14</td>\n",
       "      <td>4</td>\n",
       "      <td>1147</td>\n",
       "      <td>5048</td>\n",
       "      <td>...</td>\n",
       "      <td>Jan/2019</td>\n",
       "      <td>Jan</td>\n",
       "      <td>2019</td>\n",
       "      <td>1</td>\n",
       "      <td>110002</td>\n",
       "      <td>110002</td>\n",
       "      <td>110002</td>\n",
       "      <td>-63.033269</td>\n",
       "      <td>-9.908463</td>\n",
       "      <td>96833</td>\n",
       "    </tr>\n",
       "    <tr>\n",
       "      <th>2</th>\n",
       "      <td>CABIXI</td>\n",
       "      <td>0</td>\n",
       "      <td>20</td>\n",
       "      <td>20</td>\n",
       "      <td>0</td>\n",
       "      <td>0</td>\n",
       "      <td>0</td>\n",
       "      <td>0</td>\n",
       "      <td>12</td>\n",
       "      <td>52</td>\n",
       "      <td>...</td>\n",
       "      <td>Jan/2019</td>\n",
       "      <td>Jan</td>\n",
       "      <td>2019</td>\n",
       "      <td>1</td>\n",
       "      <td>110003</td>\n",
       "      <td>110003</td>\n",
       "      <td>110003</td>\n",
       "      <td>-60.544314</td>\n",
       "      <td>-13.499763</td>\n",
       "      <td>5363</td>\n",
       "    </tr>\n",
       "    <tr>\n",
       "      <th>3</th>\n",
       "      <td>CACOAL</td>\n",
       "      <td>0</td>\n",
       "      <td>8870</td>\n",
       "      <td>15976</td>\n",
       "      <td>924</td>\n",
       "      <td>2</td>\n",
       "      <td>5</td>\n",
       "      <td>95</td>\n",
       "      <td>2556</td>\n",
       "      <td>28428</td>\n",
       "      <td>...</td>\n",
       "      <td>Jan/2019</td>\n",
       "      <td>Jan</td>\n",
       "      <td>2019</td>\n",
       "      <td>1</td>\n",
       "      <td>110004</td>\n",
       "      <td>110004</td>\n",
       "      <td>110004</td>\n",
       "      <td>-61.442944</td>\n",
       "      <td>-11.433865</td>\n",
       "      <td>86895</td>\n",
       "    </tr>\n",
       "    <tr>\n",
       "      <th>4</th>\n",
       "      <td>CEREJEIRAS</td>\n",
       "      <td>0</td>\n",
       "      <td>101</td>\n",
       "      <td>196</td>\n",
       "      <td>3</td>\n",
       "      <td>0</td>\n",
       "      <td>0</td>\n",
       "      <td>0</td>\n",
       "      <td>80</td>\n",
       "      <td>380</td>\n",
       "      <td>...</td>\n",
       "      <td>Jan/2019</td>\n",
       "      <td>Jan</td>\n",
       "      <td>2019</td>\n",
       "      <td>1</td>\n",
       "      <td>110005</td>\n",
       "      <td>110005</td>\n",
       "      <td>110005</td>\n",
       "      <td>-60.818426</td>\n",
       "      <td>-13.195033</td>\n",
       "      <td>15890</td>\n",
       "    </tr>\n",
       "  </tbody>\n",
       "</table>\n",
       "<p>5 rows × 33 columns</p>\n",
       "</div>"
      ],
      "text/plain": [
       "            qa_município  qa_ações_de_promoção_e_prevenção_em_saúde  \\\n",
       "0  ALTA FLORESTA D'OESTE                                          0   \n",
       "1              ARIQUEMES                                          0   \n",
       "2                 CABIXI                                          0   \n",
       "3                 CACOAL                                          0   \n",
       "4             CEREJEIRAS                                          0   \n",
       "\n",
       "   qa_procedimentos_com_finalidade_diagnóstica  qa_procedimentos_clínicos  \\\n",
       "0                                            0                        125   \n",
       "1                                          136                       2888   \n",
       "2                                           20                         20   \n",
       "3                                         8870                      15976   \n",
       "4                                          101                        196   \n",
       "\n",
       "   qa_procedimentos_cirúrgicos  qa_transplantes_de_orgãos_tecidos_e_células  \\\n",
       "0                            7                                            0   \n",
       "1                          859                                            0   \n",
       "2                            0                                            0   \n",
       "3                          924                                            2   \n",
       "4                            3                                            0   \n",
       "\n",
       "   qa_medicamentos  qa_órteses_próteses_e_materiais_especiais  \\\n",
       "0                0                                          0   \n",
       "1               14                                          4   \n",
       "2                0                                          0   \n",
       "3                5                                         95   \n",
       "4                0                                          0   \n",
       "\n",
       "   qa_ações_complementares_da_atenção_à_saúde  qa_total  ... va_período  \\\n",
       "0                                          51       183  ...   Jan/2019   \n",
       "1                                        1147      5048  ...   Jan/2019   \n",
       "2                                          12        52  ...   Jan/2019   \n",
       "3                                        2556     28428  ...   Jan/2019   \n",
       "4                                          80       380  ...   Jan/2019   \n",
       "\n",
       "  va_mês  va_ano  va_dia_mês qa_código_município  va_código_município  \\\n",
       "0    Jan    2019           1              110001               110001   \n",
       "1    Jan    2019           1              110002               110002   \n",
       "2    Jan    2019           1              110003               110003   \n",
       "3    Jan    2019           1              110004               110004   \n",
       "4    Jan    2019           1              110005               110005   \n",
       "\n",
       "   CODIGO_MUNICIPIO  LONGITUDE   LATITUDE  NU_Populacao  \n",
       "0            110001 -61.999824 -11.935540         21495  \n",
       "1            110002 -63.033269  -9.908463         96833  \n",
       "2            110003 -60.544314 -13.499763          5363  \n",
       "3            110004 -61.442944 -11.433865         86895  \n",
       "4            110005 -60.818426 -13.195033         15890  \n",
       "\n",
       "[5 rows x 33 columns]"
      ]
     },
     "execution_count": 19,
     "metadata": {},
     "output_type": "execute_result"
    }
   ],
   "source": [
    "Dados_Datasus_Censo.head()"
   ]
  },
  {
   "cell_type": "code",
   "execution_count": 50,
   "metadata": {
    "id": "9gmAlKIgSWn-"
   },
   "outputs": [],
   "source": [
    "Dados_Datasus_Censo.to_csv('Dados_Datasus_Censo.csv', index=False)"
   ]
  }
 ],
 "metadata": {
  "colab": {
   "provenance": []
  },
  "kernelspec": {
   "display_name": "Python 3 (ipykernel)",
   "language": "python",
   "name": "python3"
  },
  "language_info": {
   "codemirror_mode": {
    "name": "ipython",
    "version": 3
   },
   "file_extension": ".py",
   "mimetype": "text/x-python",
   "name": "python",
   "nbconvert_exporter": "python",
   "pygments_lexer": "ipython3",
   "version": "3.11.3"
  }
 },
 "nbformat": 4,
 "nbformat_minor": 4
}
