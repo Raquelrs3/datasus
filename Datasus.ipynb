{
 "cells": [
  {
   "cell_type": "markdown",
   "id": "4c80a7c3-4e54-4da0-8674-5c027cdee107",
   "metadata": {},
   "source": [
    "# <font color='#708090'>**Limpeza dos dados**</font>"
   ]
  },
  {
   "cell_type": "code",
   "execution_count": null,
   "id": "667c34d9-7b3c-42c5-80db-4487f7ec5f57",
   "metadata": {},
   "outputs": [],
   "source": [
    "python -m ipykernel install --user --name proj3 --display-name \"python(proj3)\""
   ]
  },
  {
   "cell_type": "code",
   "execution_count": null,
   "id": "e7b9f989-241f-4e67-b024-edfabad99f1a",
   "metadata": {},
   "outputs": [],
   "source": [
    "python -m ipykernel install --user --name proj3 --display-name \"proj3\""
   ]
  },
  {
   "cell_type": "code",
   "execution_count": null,
   "id": "73a8082f-eb98-4ddd-879a-98c3d2ed245f",
   "metadata": {},
   "outputs": [],
   "source": [
    "import ipykernel"
   ]
  },
  {
   "cell_type": "code",
   "execution_count": null,
   "id": "a8d7b2f5-aa06-444d-af9a-693a5fce5d14",
   "metadata": {},
   "outputs": [],
   "source": []
  },
  {
   "cell_type": "markdown",
   "id": "f414d9bb-b36f-4f79-bcbb-8636f97d1dc2",
   "metadata": {},
   "source": [
    "# **1.0 Import**"
   ]
  },
  {
   "cell_type": "code",
   "execution_count": null,
   "id": "2ea3e5df-627e-434d-b5a2-c4ae50b4d0a2",
   "metadata": {},
   "outputs": [],
   "source": [
    "import pandas   as pd\n",
    "import numpy    as np\n",
    "#import seaborn             as sns\n",
    "#import matplotlib.gridspec as gridspec\n",
    "#import plotly.express      as px"
   ]
  },
  {
   "cell_type": "markdown",
   "id": "df6ebdf7-f09a-4b81-a355-7e7bb5b3ed88",
   "metadata": {},
   "source": [
    "## 1.1 Helper Functions"
   ]
  },
  {
   "cell_type": "code",
   "execution_count": null,
   "id": "6fed8f21-139d-4fbe-8732-ae68a049d259",
   "metadata": {},
   "outputs": [],
   "source": [
    "#Estatística descritiva - medidas central.\n",
    "def descriptive_statistics(df1_num):\n",
    "    \n",
    "    # Central Tendency - mean, meadina\n",
    "    ct1= pd.DataFrame(df1_num.apply(np.mean)).T\n",
    "    ct2= pd.DataFrame(df1_num.apply(np.median)).T\n",
    "\n",
    "    # dispersion - std, min, max, range, skew, kurtosis\n",
    "    ct3= pd.DataFrame(df1_num.apply(np.std)).T\n",
    "    ct4= pd.DataFrame(df1_num.apply(min)).T\n",
    "    ct5= pd.DataFrame(df1_num.apply(max)).T\n",
    "    ct6= pd.DataFrame(df1_num.apply(lambda x: x.max() - x.min())).T\n",
    "    ct7= pd.DataFrame(df1_num.apply(lambda x: x.skew())).T\n",
    "    ct8= pd.DataFrame(df1_num.apply(lambda x: x.kurtosis())).T\n",
    "    #ct9 = pd.DataFrame(df1_num.apply(lambda x: 'not normal' if shapiro(x.sample(5000))[1] < 0.05 else 'normal')).T\n",
    "\n",
    "    # concatenar\n",
    "    df_statistics= pd.concat([ct4, ct5, ct6, ct1, ct2,ct3, ct7, ct8]).T #ct9\n",
    "    df_statistics.columns=['min', 'max', 'range', 'mean', 'median', 'std', 'skew', 'kurtosis']#shapiro\n",
    "    df_statistics.round(2)\n",
    "\n",
    "    return df_statistics\n",
    "    "
   ]
  },
  {
   "cell_type": "markdown",
   "id": "c43c1de1-01d3-470b-9b4d-44967153ce3b",
   "metadata": {},
   "source": [
    "## 1.2 Load data"
   ]
  },
  {
   "cell_type": "markdown",
   "id": "9532a818-597c-4c9e-b217-fd995dbd0916",
   "metadata": {},
   "source": [
    "#### qualidade aprovada"
   ]
  },
  {
   "cell_type": "code",
   "execution_count": null,
   "id": "33a866b8-de01-4def-804f-be5e50d7363a",
   "metadata": {},
   "outputs": [],
   "source": [
    "df_raw_qa = pd.read_csv(\"df_quantidade_aprovada.csv\",low_memory = False)"
   ]
  },
  {
   "cell_type": "markdown",
   "id": "fa0d90d8-d9d8-4f2f-9be9-42bb4f2cdf8f",
   "metadata": {},
   "source": [
    "#### valor aprovado"
   ]
  },
  {
   "cell_type": "code",
   "execution_count": null,
   "id": "f08e52f3-6479-45e8-8248-2a8824e72f4f",
   "metadata": {},
   "outputs": [],
   "source": [
    "df_raw_va = pd.read_csv(\"df_valor_aprovado.csv\",low_memory = False)"
   ]
  },
  {
   "cell_type": "markdown",
   "id": "1b964d8d-944d-4aed-b289-bec118426ec2",
   "metadata": {},
   "source": [
    "# **2.0 Descrição dos Dados**"
   ]
  },
  {
   "cell_type": "markdown",
   "id": "c7cabf95-65cb-401a-a3a6-41387fdaf166",
   "metadata": {},
   "source": [
    "#### qualidade aprovada"
   ]
  },
  {
   "cell_type": "code",
   "execution_count": null,
   "id": "7f2ad3cd-d897-4b00-bb56-043c3a5d3d90",
   "metadata": {},
   "outputs": [],
   "source": [
    "df1_qa = df_raw_qa.copy()"
   ]
  },
  {
   "cell_type": "code",
   "execution_count": null,
   "id": "74a3f3bf-d0ac-4b70-ac94-0a4f18dd0fd3",
   "metadata": {},
   "outputs": [],
   "source": [
    "df1_qa.head()"
   ]
  },
  {
   "cell_type": "markdown",
   "id": "120656f5-a13a-44a0-b821-ddb20fefe430",
   "metadata": {},
   "source": [
    "#### valor aprovado"
   ]
  },
  {
   "cell_type": "code",
   "execution_count": null,
   "id": "114f5812-8691-4562-9dfa-b15898902d40",
   "metadata": {},
   "outputs": [],
   "source": [
    "df1_va = df_raw_va.copy()"
   ]
  },
  {
   "cell_type": "code",
   "execution_count": null,
   "id": "9e5b35d4-f96e-4b0e-bd34-525ffe2e7094",
   "metadata": {},
   "outputs": [],
   "source": [
    "df1_va.head()"
   ]
  },
  {
   "cell_type": "markdown",
   "id": "9eb5aa71-03b2-4e68-b7bd-b01de01c2d51",
   "metadata": {},
   "source": [
    "## 2.1 Rename Columns"
   ]
  },
  {
   "cell_type": "markdown",
   "id": "bca2ca68-9255-4e9a-96fb-8d371cc3083b",
   "metadata": {},
   "source": [
    "#### qualidade aprovada"
   ]
  },
  {
   "cell_type": "code",
   "execution_count": null,
   "id": "6d837914-e0bd-4193-b9ce-974e3fb87a38",
   "metadata": {},
   "outputs": [],
   "source": [
    "df1_qa.columns"
   ]
  },
  {
   "cell_type": "code",
   "execution_count": null,
   "id": "72fae35b-1e77-4039-beb0-1d5f36d2d439",
   "metadata": {},
   "outputs": [],
   "source": [
    "df1_qa = df1_qa.rename(columns={'0': 'qa_município',\n",
    "                                '1': 'qa_ações_de_promoção_e_prevenção_em_saúde',\n",
    "                                '2': 'qa_procedimentos_com_finalidade_diagnóstica',\n",
    "                                '3': 'qa_procedimentos_clínicos',\n",
    "                                '4': 'qa_procedimentos_cirúrgicos',\n",
    "                                '5': 'qa_transplantes_de_orgãos_tecidos_e_células',\n",
    "                                '6': 'qa_medicamentos',\n",
    "                                '7': 'qa_órteses_próteses_e_materiais_especiais',\n",
    "                                '8': 'qa_ações_complementares_da_atenção_à_saúde',\n",
    "                                '9':'qa_total',\n",
    "                                'Período': 'qa_período'})"
   ]
  },
  {
   "cell_type": "code",
   "execution_count": null,
   "id": "c183ecda-02e7-46ef-9582-aa8bbe78064b",
   "metadata": {
    "scrolled": true
   },
   "outputs": [],
   "source": [
    "df1_qa.head()"
   ]
  },
  {
   "cell_type": "markdown",
   "id": "10a36b4c-a888-4e46-8bbb-49917c689272",
   "metadata": {},
   "source": [
    "#### valor aprovado"
   ]
  },
  {
   "cell_type": "code",
   "execution_count": null,
   "id": "23c63427-5442-4ea6-a571-95497c477569",
   "metadata": {},
   "outputs": [],
   "source": [
    "df1_va.columns"
   ]
  },
  {
   "cell_type": "code",
   "execution_count": null,
   "id": "98c3a1c7-1ca3-496b-a4b8-706ecc1c9a52",
   "metadata": {},
   "outputs": [],
   "source": [
    "df1_va = df1_va.rename(columns={'0': 'va_município',\n",
    "                                '1': 'va_procedimentos_com_finalidade_diagnóstica',\n",
    "                                '2': 'va_procedimentos_clínicos',\n",
    "                                '3': 'va_procedimentos_cirúrgicos',\n",
    "                                '4': 'va_transplantes_de_orgãos_tecidos_e_células',\n",
    "                                '5': 'va_medicamentos',\n",
    "                                '6': 'va_órteses_próteses_e_materiais_especiais',\n",
    "                                '7': 'va_ações_complementares_da_atenção_à_saúde',\n",
    "                                '8':'va_total',\n",
    "                                'Período': 'va_período'})"
   ]
  },
  {
   "cell_type": "code",
   "execution_count": null,
   "id": "3cfbd867-355f-4579-a38c-a8d44bf6efe1",
   "metadata": {},
   "outputs": [],
   "source": [
    "df1_va.head()"
   ]
  },
  {
   "cell_type": "markdown",
   "id": "90d45693-88f3-4953-aee6-343574a4f695",
   "metadata": {},
   "source": [
    "## 2.2 Data Dimensions"
   ]
  },
  {
   "cell_type": "markdown",
   "id": "ba1bce3d-54cf-435a-91d7-88fc48fdda7e",
   "metadata": {},
   "source": [
    "#### qualidade aprovada"
   ]
  },
  {
   "cell_type": "code",
   "execution_count": null,
   "id": "6237691a-d969-4532-9f9f-ce178ec78d5b",
   "metadata": {},
   "outputs": [],
   "source": [
    "print (\"Number of Rows:{}\".format(df1_qa.shape[0]))\n",
    "print (\"Number of Cols:{}\".format(df1_qa.shape[1]))"
   ]
  },
  {
   "cell_type": "markdown",
   "id": "eb25c227-b3d0-4d90-a0a9-197ee264c234",
   "metadata": {},
   "source": [
    "#### valor aprovada"
   ]
  },
  {
   "cell_type": "code",
   "execution_count": null,
   "id": "0ade4f2f-3486-4db8-b24f-d0efe740f26a",
   "metadata": {},
   "outputs": [],
   "source": [
    "print (\"Number of Rows:{}\".format(df1_va.shape[0]))\n",
    "print (\"Number of Cols:{}\".format(df1_va.shape[1]))"
   ]
  },
  {
   "cell_type": "markdown",
   "id": "ca0ead8c-a9b1-4a52-b9c2-f6a8886e81ec",
   "metadata": {},
   "source": [
    "## 2.3 Data Types"
   ]
  },
  {
   "cell_type": "markdown",
   "id": "50e4e09c-d275-4cf1-ab15-d0e81d50bcf4",
   "metadata": {},
   "source": [
    "#### qualidade aprovada"
   ]
  },
  {
   "cell_type": "code",
   "execution_count": null,
   "id": "665d7ff3-7ce1-4010-b434-7828ed7e5933",
   "metadata": {},
   "outputs": [],
   "source": [
    "df1_qa.dtypes"
   ]
  },
  {
   "cell_type": "markdown",
   "id": "da9a94e4-ab1f-4807-bcbf-4a1c0e3784f6",
   "metadata": {},
   "source": [
    "#### valor aprovado"
   ]
  },
  {
   "cell_type": "code",
   "execution_count": null,
   "id": "2c85c371-f66d-4a7a-8fa3-274d7e1d5f94",
   "metadata": {},
   "outputs": [],
   "source": [
    "df1_va.dtypes"
   ]
  },
  {
   "cell_type": "markdown",
   "id": "3f68bf7d-cb08-45f9-96e0-b4509b867ca2",
   "metadata": {},
   "source": [
    "## 2.4 Check NA"
   ]
  },
  {
   "cell_type": "markdown",
   "id": "5849fda1-1e46-4412-abcd-330956a45790",
   "metadata": {},
   "source": [
    "#### qualidade aprovada"
   ]
  },
  {
   "cell_type": "code",
   "execution_count": null,
   "id": "255e66a6-14f8-4ab8-b20e-586a862335c0",
   "metadata": {},
   "outputs": [],
   "source": [
    "df1_qa.isna().sum()"
   ]
  },
  {
   "cell_type": "markdown",
   "id": "9d01571a-f4ad-4547-a7e2-fecda9313e3e",
   "metadata": {},
   "source": [
    "#### valor aprovado"
   ]
  },
  {
   "cell_type": "code",
   "execution_count": null,
   "id": "88be9d91-5383-4a25-af97-cba8c36b6f70",
   "metadata": {},
   "outputs": [],
   "source": [
    "df1_va.isna().sum()"
   ]
  },
  {
   "cell_type": "markdown",
   "id": "0309d66b-3b2a-42c1-a44e-a3909a81b53d",
   "metadata": {},
   "source": [
    "## 2.5 Fillout NA"
   ]
  },
  {
   "cell_type": "markdown",
   "id": "7a7dc628-9da8-4efe-8078-0b51a9936762",
   "metadata": {},
   "source": [
    "#### qualidade aprovada"
   ]
  },
  {
   "cell_type": "code",
   "execution_count": null,
   "id": "fbca9814-29fb-40b7-bc01-8a64833a911e",
   "metadata": {},
   "outputs": [],
   "source": [
    "df1_qa.replace('-', 0, inplace=True)"
   ]
  },
  {
   "cell_type": "code",
   "execution_count": null,
   "id": "8adf13e8-fd90-4b14-80d1-7861a8e606a8",
   "metadata": {},
   "outputs": [],
   "source": [
    "df1_qa.head()"
   ]
  },
  {
   "cell_type": "markdown",
   "id": "b132b9c6-4be3-4c67-bd29-035de6431642",
   "metadata": {},
   "source": [
    "#### valor aprovado"
   ]
  },
  {
   "cell_type": "code",
   "execution_count": null,
   "id": "021dae58-ddcf-4c0d-8bbe-38d7e296c2ff",
   "metadata": {},
   "outputs": [],
   "source": [
    "df1_va.replace('-', 0, inplace=True)\n"
   ]
  },
  {
   "cell_type": "code",
   "execution_count": null,
   "id": "b939731c-2cdc-4223-b7cd-87123ed15212",
   "metadata": {},
   "outputs": [],
   "source": [
    "df1_va.head()"
   ]
  },
  {
   "cell_type": "markdown",
   "id": "a949f17c-e1de-49c8-96b3-28d80040cb24",
   "metadata": {},
   "source": [
    "## 2.6 Change Types "
   ]
  },
  {
   "cell_type": "markdown",
   "id": "e12a2f72-86ea-478c-9978-5e6b2e98ba03",
   "metadata": {},
   "source": [
    "### Qualidade Aprovada"
   ]
  },
  {
   "cell_type": "code",
   "execution_count": null,
   "id": "61f034b4-c95b-4a1e-9c8d-89456d9aa25d",
   "metadata": {},
   "outputs": [],
   "source": [
    "df1_qa.columns"
   ]
  },
  {
   "cell_type": "code",
   "execution_count": null,
   "id": "fb802483-4264-4730-b571-96e7e825b907",
   "metadata": {},
   "outputs": [],
   "source": [
    "# Remover pontos das strings e converter para números inteiros nas colunas de 2 a 10\n",
    "df1_qa.iloc[:, 1:10] = df1_qa.iloc[:, 1:10].replace('\\.', '', regex=True).astype(int)\n"
   ]
  },
  {
   "cell_type": "code",
   "execution_count": null,
   "id": "c378a355-e645-4d2b-ab40-e6ac571524c0",
   "metadata": {
    "scrolled": true
   },
   "outputs": [],
   "source": [
    "df1_qa.head()"
   ]
  },
  {
   "cell_type": "code",
   "execution_count": null,
   "id": "20c692d9-ea54-4eb7-adef-7afe2d122de0",
   "metadata": {},
   "outputs": [],
   "source": [
    "# Converter para int\n",
    "df1_qa['qa_ações_de_promoção_e_prevenção_em_saúde'] = df1_qa['qa_ações_de_promoção_e_prevenção_em_saúde'].astype(int)\n",
    "df1_qa['qa_procedimentos_com_finalidade_diagnóstica'] = df1_qa['qa_procedimentos_com_finalidade_diagnóstica'].astype(int)\n",
    "df1_qa['qa_procedimentos_clínicos'] = df1_qa['qa_procedimentos_clínicos'].astype(int)\n",
    "df1_qa['qa_procedimentos_cirúrgicos'] = df1_qa['qa_procedimentos_cirúrgicos'].astype(int)\n",
    "df1_qa['qa_transplantes_de_orgãos_tecidos_e_células'] = df1_qa['qa_transplantes_de_orgãos_tecidos_e_células'].astype(int)\n",
    "df1_qa['qa_medicamentos'] = df1_qa['qa_medicamentos'].astype(int)\n",
    "df1_qa['qa_órteses_próteses_e_materiais_especiais'] = df1_qa['qa_órteses_próteses_e_materiais_especiais'].astype(int)\n",
    "df1_qa['qa_ações_complementares_da_atenção_à_saúde'] = df1_qa['qa_ações_complementares_da_atenção_à_saúde'].astype(int)\n",
    "df1_qa['qa_total'] = df1_qa['qa_total'].astype(int)\n"
   ]
  },
  {
   "cell_type": "code",
   "execution_count": null,
   "id": "3b5884fb-d4bf-4ed0-90c3-39cb4a4d6068",
   "metadata": {},
   "outputs": [],
   "source": [
    "# Separar em mês e ano\n",
    "df1_qa[['qa_mês', 'qa_ano']] = df1_qa['qa_período'].str.split('/', expand=True)"
   ]
  },
  {
   "cell_type": "code",
   "execution_count": null,
   "id": "6a3a8ee1-45a3-475b-8cc9-f1a777f113cd",
   "metadata": {},
   "outputs": [],
   "source": [
    "df1_qa['qa_ano'] = df1_qa['qa_ano'].astype(int)"
   ]
  },
  {
   "cell_type": "code",
   "execution_count": null,
   "id": "e009847d-a59a-4f82-9001-efc21f2401d3",
   "metadata": {},
   "outputs": [],
   "source": [
    "# Converte o mês de texto para o número do mês\n",
    "meses_dict = {'Jan': 1, 'Fev': 2, 'Mar': 3, 'Abr': 4, 'Mai': 5, 'Jun': 6, 'Jul': 7, 'Ago': 8, 'Set': 9, 'Out': 10, 'Nov': 11, 'Dez': 12}\n",
    "df1_qa['qa_dia_mês'] = df1_qa['qa_mês'].map(meses_dict)\n"
   ]
  },
  {
   "cell_type": "code",
   "execution_count": null,
   "id": "50721882-d913-40fa-aeee-2279955a610f",
   "metadata": {},
   "outputs": [],
   "source": [
    "df1_qa.dtypes"
   ]
  },
  {
   "cell_type": "code",
   "execution_count": null,
   "id": "4f35d383-ce70-451e-ae1f-8adbc83ea1e8",
   "metadata": {},
   "outputs": [],
   "source": [
    "df1_qa.head()"
   ]
  },
  {
   "cell_type": "markdown",
   "id": "56db9a6c-4260-40ce-9ad1-b9f2fb34bdd0",
   "metadata": {},
   "source": [
    "### Valor aprovado"
   ]
  },
  {
   "cell_type": "code",
   "execution_count": null,
   "id": "bdc9ca27-b5ae-488f-834c-b5ee23977767",
   "metadata": {},
   "outputs": [],
   "source": [
    "df1_va.columns"
   ]
  },
  {
   "cell_type": "code",
   "execution_count": null,
   "id": "0528f324-f246-4f81-9a3e-5248b71c7251",
   "metadata": {},
   "outputs": [],
   "source": [
    "# Substituir os pontos de milhar por uma string vazia e trocar a vírgula por ponto\n",
    "df1_va.iloc[:, 1:9] = df1_va.iloc[:, 1:9].replace('\\.', '', regex=True).replace(',', '.', regex=True).astype(float)\n"
   ]
  },
  {
   "cell_type": "code",
   "execution_count": null,
   "id": "68b21fdc-41d9-44f5-bb9b-8cd6b70c95b7",
   "metadata": {},
   "outputs": [],
   "source": [
    "# Converter para int\n",
    "df1_va['va_procedimentos_com_finalidade_diagnóstica'] = df1_va['va_procedimentos_com_finalidade_diagnóstica'].astype(float)\n",
    "df1_va['va_procedimentos_clínicos'] = df1_va['va_procedimentos_clínicos'].astype(float)\n",
    "df1_va['va_procedimentos_cirúrgicos'] = df1_va['va_procedimentos_cirúrgicos'].astype(float)\n",
    "df1_va['va_transplantes_de_orgãos_tecidos_e_células'] = df1_va['va_transplantes_de_orgãos_tecidos_e_células'].astype(float)\n",
    "df1_va['va_medicamentos'] = df1_va['va_medicamentos'].astype(float)\n",
    "df1_va['va_órteses_próteses_e_materiais_especiais'] = df1_va['va_órteses_próteses_e_materiais_especiais'].astype(float)\n",
    "df1_va['va_ações_complementares_da_atenção_à_saúde'] = df1_va['va_ações_complementares_da_atenção_à_saúde'].astype(float)\n",
    "df1_va['va_total'] = df1_va['va_total'].astype(float)\n"
   ]
  },
  {
   "cell_type": "code",
   "execution_count": null,
   "id": "3b89040c-b9a5-44a4-aa26-2321d220f185",
   "metadata": {},
   "outputs": [],
   "source": [
    "# Separar em mês e ano\n",
    "df1_va[['va_mês', 'va_ano']] = df1_va['va_período'].str.split('/', expand=True)\n"
   ]
  },
  {
   "cell_type": "code",
   "execution_count": null,
   "id": "ca223cbf-bb16-4608-a015-d45e94d7f348",
   "metadata": {},
   "outputs": [],
   "source": [
    "#df1_va['ano'] = df1_va['ano'].astype(int)"
   ]
  },
  {
   "cell_type": "code",
   "execution_count": null,
   "id": "f63c9346-a963-43e4-85ee-24367f4347a1",
   "metadata": {},
   "outputs": [],
   "source": [
    "# Converte o mês de texto para o número do mês\n",
    "meses_dict = {'Jan': 1, 'Fev': 2, 'Mar': 3, 'Abr': 4, 'Mai': 5, 'Jun': 6, 'Jul': 7, 'Ago': 8, 'Set': 9, 'Out': 10, 'Nov': 11, 'Dez': 12}\n",
    "df1_va['va_dia_mês'] = df1_va['va_mês'].map(meses_dict)\n"
   ]
  },
  {
   "cell_type": "code",
   "execution_count": null,
   "id": "c31d7828-35a3-41d4-85eb-e8d3f06f886a",
   "metadata": {},
   "outputs": [],
   "source": [
    "df1_va.dtypes"
   ]
  },
  {
   "cell_type": "code",
   "execution_count": null,
   "id": "79493181-e344-4eb9-92f0-0c9f10c69c97",
   "metadata": {},
   "outputs": [],
   "source": [
    "pd.set_option('display.float_format', '{:.2f}'.format)\n"
   ]
  },
  {
   "cell_type": "code",
   "execution_count": null,
   "id": "c275a58f-68ca-4b57-b4a4-9c93a8384b38",
   "metadata": {},
   "outputs": [],
   "source": [
    "df1_va.head()"
   ]
  },
  {
   "cell_type": "markdown",
   "id": "7f6991b0-1ecb-4126-92e6-620ff5aa3a6e",
   "metadata": {},
   "source": [
    "### - Merge datasets -"
   ]
  },
  {
   "cell_type": "code",
   "execution_count": null,
   "id": "3cc9416e-4351-4f27-bedd-85534cc735b6",
   "metadata": {},
   "outputs": [],
   "source": [
    "df_agrupado = pd.concat([df1_qa, df1_va], axis=1)\n"
   ]
  },
  {
   "cell_type": "code",
   "execution_count": null,
   "id": "79040a3d-758b-41e7-a9a6-58ff756e964e",
   "metadata": {},
   "outputs": [],
   "source": [
    "df_agrupado.head()"
   ]
  },
  {
   "cell_type": "markdown",
   "id": "634a6258-c22d-41b4-945a-909bfa0db5ca",
   "metadata": {},
   "source": [
    "## 2.6 Descriptive Statistical"
   ]
  },
  {
   "cell_type": "code",
   "execution_count": null,
   "id": "eb9cbdd9-bd54-435f-b5d3-9784e20b0606",
   "metadata": {},
   "outputs": [],
   "source": [
    "df1_num=df_agrupado.select_dtypes(include=['int64', 'float64'])\n",
    "df1_cat=df_agrupado.select_dtypes(exclude=['int64', 'float64', 'datetime'])"
   ]
  },
  {
   "cell_type": "markdown",
   "id": "ea6fb2f9-ff25-4062-a605-98f476402ebe",
   "metadata": {},
   "source": [
    "### 2.6.1 Numerical Attributes"
   ]
  },
  {
   "cell_type": "code",
   "execution_count": null,
   "id": "a71b6206-8e9b-4662-9aaf-e72d508e55c5",
   "metadata": {},
   "outputs": [],
   "source": [
    "descriptive_statistics(df1_num)\n"
   ]
  },
  {
   "cell_type": "code",
   "execution_count": null,
   "id": "e3672c22-ddbe-4331-80c5-4580af7475bb",
   "metadata": {},
   "outputs": [],
   "source": [
    "#Distribuição dos procedimentos cirúrgicos\t\n",
    "sns.distplot(df_agrupado[\"qa_procedimentos_cirúrgicos\"]);"
   ]
  },
  {
   "cell_type": "markdown",
   "id": "69135a9e-e94b-415b-8520-f03a53732181",
   "metadata": {},
   "source": [
    "### 2.6.2 Categorical Attributes"
   ]
  },
  {
   "cell_type": "code",
   "execution_count": null,
   "id": "aace2c06-b02d-4757-8e76-f479510c4a6d",
   "metadata": {},
   "outputs": [],
   "source": [
    "df1_cat.apply(lambda x: x.unique().shape[0])"
   ]
  },
  {
   "cell_type": "markdown",
   "id": "7c658b3d-e49b-4e44-8e41-8da7467bc003",
   "metadata": {},
   "source": [
    "# - export dados CSV -"
   ]
  },
  {
   "cell_type": "code",
   "execution_count": null,
   "id": "7e74d6dd-c806-4948-8812-fffc21b2b720",
   "metadata": {},
   "outputs": [],
   "source": [
    "df_agrupado.to_csv('df_agrupado.csv', index=False)"
   ]
  }
 ],
 "metadata": {
  "kernelspec": {
   "display_name": "python(ProjetoIntegrador3)",
   "language": "python",
   "name": "projetointegrador3"
  },
  "language_info": {
   "codemirror_mode": {
    "name": "ipython",
    "version": 3
   },
   "file_extension": ".py",
   "mimetype": "text/x-python",
   "name": "python",
   "nbconvert_exporter": "python",
   "pygments_lexer": "ipython3",
   "version": "3.9.15"
  }
 },
 "nbformat": 4,
 "nbformat_minor": 5
}
