{
 "cells": [
  {
   "cell_type": "markdown",
   "id": "b0a334ac-439a-436d-8b40-f4c52217e814",
   "metadata": {},
   "source": [
    "# **Webscrapping**"
   ]
  },
  {
   "cell_type": "markdown",
   "id": "d2462476-d202-479e-96d9-8da18f07e4b4",
   "metadata": {},
   "source": [
    "## Import(webscrapping)"
   ]
  },
  {
   "cell_type": "code",
   "execution_count": null,
   "id": "dfdb6b18-9d5a-4552-a0af-d9535a8b1cd3",
   "metadata": {},
   "outputs": [],
   "source": [
    "import selenium\n",
    "import time\n",
    "import lxml\n",
    "\n",
    "import pandas                            as pd\n",
    "\n",
    "from selenium.webdriver.common.by        import By\n",
    "from selenium                            import webdriver\n",
    "from selenium.webdriver.chrome.service   import Service\n",
    "from webdriver_manager.chrome            import ChromeDriverManager\n",
    "from selenium.webdriver.support.ui       import WebDriverWait\n",
    "from selenium.webdriver.support          import expected_conditions as EC\n",
    "from selenium.webdriver.support.ui       import Select \n",
    "\n",
    "from bs4                                 import BeautifulSoup\n"
   ]
  },
  {
   "cell_type": "code",
   "execution_count": null,
   "id": "9afbd8f1-e752-460f-965f-16cc229e1311",
   "metadata": {},
   "outputs": [],
   "source": []
  },
  {
   "cell_type": "markdown",
   "id": "dd3b193c-5d2c-403c-b234-5840d28b1824",
   "metadata": {},
   "source": [
    "## <font color='#708090'>Código para salvar os arquivos em um dataframe - final</font>"
   ]
  },
  {
   "cell_type": "markdown",
   "id": "cf3da5a5-77c3-4e9d-839a-9723ceec6e26",
   "metadata": {},
   "source": [
    "#### quantidade aprovada e valor aprovado"
   ]
  },
  {
   "cell_type": "code",
   "execution_count": 16,
   "id": "218a51f6-def2-4161-af6e-653f15e54327",
   "metadata": {},
   "outputs": [],
   "source": [
    "# ======Aqui chama o site e abre o chrome navegador=======\n",
    "url = \"https://datasus.saude.gov.br/informacoes-de-saude-tabnet/\"\n",
    "options = webdriver.ChromeOptions()\n",
    "# options.add_argument(\"--headless\")\n",
    "# options.add_argument(\"--no-sandbox\")\n",
    "\n",
    "servico = Service(ChromeDriverManager().install())\n",
    "driver = webdriver.Chrome(options=options, service=servico)\n",
    "driver.get(url)\n",
    "\n",
    "# Aguarda até que o elemento da lista esteja presente e visível na página\n",
    "toggle_element = WebDriverWait(driver, 10).until(EC.visibility_of_element_located((By.XPATH, \"//div[@id='elementor-tab-title-2152']\")))\n",
    "toggle_element.click()\n",
    "\n",
    "# Aguarda até que a página carregue completamente\n",
    "time.sleep(1)\n",
    "\n",
    "# Rola a página para o elemento da lista\n",
    "driver.execute_script(\"arguments[0].scrollIntoView(true);\", toggle_element)\n",
    "\n",
    "# Aguarda até que o link \"Produção Hospitalar (SIH/SUS)\" esteja presente e visível na página\n",
    "link_element = WebDriverWait(driver, 10).until(EC.visibility_of_element_located((By.XPATH, '//*[@id=\"elementor-tab-content-2152\"]/ul/li[1]/span/a')))\n",
    "driver.execute_script(\"arguments[0].scrollIntoView(true);\", link_element)  # Rola a página para o elemento\n",
    "link_element.click()\n",
    "\n",
    "# Aguarda até que a página \"Produção Hospitalar (SIH/SUS)\" carregue completamente\n",
    "time.sleep(1)\n",
    "\n",
    "# Webscraping na página \"Produção Hospitalar (SIH/SUS)\"\n",
    "\n",
    "## Selecionando a primeira opção \"Dados Detalhados de AIH (SP), por local de internação, 2008 em diante\"\n",
    "# Localiza o elemento de input com o XPath desejado\n",
    "input_xpath = '//*[@id=\"infesq\"]/input[6]'\n",
    "input_element = driver.find_element(By.XPATH, input_xpath)\n",
    "\n",
    "# Localiza o elemento rádio pelo atributo \"value\"\n",
    "radio_option_xpath = '//input[@type=\"radio\" and @name=\"radiobutton\" and @value=\" http://tabnet.datasus.gov.br/cgi/deftohtm.exe?sih/cnv/spa\"]'\n",
    "radio_option_element = driver.find_element(By.XPATH, radio_option_xpath)\n",
    "\n",
    "# Clica na opção radio\n",
    "radio_option_element.click()\n",
    "\n",
    "## Selecionando a segunda opção \"Brasil por municipios\"\n",
    "# Localiza o elemento <select> pelo id\n",
    "select_element = driver.find_element(By.ID, \"mySelect\")\n",
    "\n",
    "# Seleciona a segunda opção pelo texto\n",
    "select = Select(select_element)\n",
    "select.select_by_visible_text('Brasil por Municípios')\n",
    "\n",
    "# ======Períodos disponíveis======= (Quantidade_aprovada)\n",
    "periodos = [\"Jan/2019\", \"Fev/2019\", \"Mar/2019\", \"Abr/2019\",\n",
    "            \"Mai/2019\", \"Jun/2019\", \"Jul/2019\", \"Ago/2019\",\n",
    "            \"Set/2019\", \"Out/2019\", \"Nov/2019\", \"Dez/2019\",\n",
    "            \"Jan/2020\", \"Fev/2020\", \"Mar/2020\", \"Abr/2020\",\n",
    "            \"Mai/2020\", \"Jun/2020\", \"Jul/2020\", \"Ago/2020\",\n",
    "            \"Set/2020\", \"Out/2020\", \"Nov/2020\", \"Dez/2020\",\n",
    "            \"Jan/2021\", \"Fev/2021\", \"Mar/2021\", \"Abr/2021\",\n",
    "            \"Mai/2021\", \"Jun/2021\", \"Jul/2021\", \"Ago/2021\",\n",
    "            \"Set/2021\", \"Out/2021\", \"Nov/2021\", \"Dez/2021\",\n",
    "            \"Jan/2022\", \"Fev/2022\", \"Mar/2022\", \"Abr/2022\",\n",
    "            \"Mai/2022\", \"Jun/2022\", \"Jul/2022\", \"Ago/2022\",\n",
    "            \"Set/2022\", \"Out/2022\", \"Nov/2022\", \"Dez/2022\",\n",
    "            \"Jan/2023\", \"Fev/2023\", \"Mar/2023\", \"Abr/2023\",\n",
    "            \"Mai/2023\", \"Jun/2023\", \"Jul/2023\", \"Ago/2023\",\n",
    "            \"Set/2023\", \"Out/2023\", \"Nov/2023\", \"Dez/2023\"]\n",
    "\n",
    "# Tipos de dados disponíveis\n",
    "#tipos_dados = [\"Quantidade_aprovada\", \"Valor_aprovado\"]\n",
    "\n",
    "# Inicializa um dataframe vazio para armazenar os dados\n",
    "df_total = pd.DataFrame()\n",
    "\n",
    "# Loop sobre os períodos\n",
    "for periodo in periodos:\n",
    "    if periodo == \"Jan/2024\":\n",
    "        continue  # Ignora o período \"Jan/2024\"\n",
    "\n",
    "    # Seleção na linha: \"Município\"\n",
    "    select_element = WebDriverWait(driver, 10).until(EC.presence_of_element_located((By.ID, 'L')))\n",
    "    select = Select(select_element)\n",
    "    select.select_by_value('Município')\n",
    "\n",
    "    # Seleção na Coluna \"Grupo procedimento\"\n",
    "    select_element1 = WebDriverWait(driver, 10).until(EC.presence_of_element_located((By.ID, 'C')))\n",
    "    select1 = Select(select_element1)\n",
    "    select1.select_by_value('Grupo_procedimento')\n",
    "    \n",
    "    # Seleção no Conteúdo \"Quantidade aprovada\"\n",
    "    select_element2 = WebDriverWait(driver, 10).until(EC.presence_of_element_located((By.ID, 'I')))\n",
    "    select2 = Select(select_element2)\n",
    "    #select2.select_by_value('Quantidade_aprovada') # só para quantidade aprovada\n",
    "    select2.select_by_value('Valor_aprovado') # só para valor aprovado\n",
    "\n",
    "    # Desmarca a opção \"Quantidade aprovada\" se o tipo de dado for \"Valor_aprovado\"\n",
    "    if \"Valor_aprovado\":\n",
    "        select2.deselect_by_value(\"Quantidade_aprovada\") # só para valor aprovado\n",
    "    \n",
    "    # Seleção no Conteúdo \"Períodos disponíveis\" \n",
    "    select_element3 = WebDriverWait(driver, 10).until(EC.presence_of_element_located((By.ID, 'A')))\n",
    "    select3 = Select(select_element3)\n",
    "\n",
    "    # Desmarca todas as opções anteriores\n",
    "    for option in select3.all_selected_options:\n",
    "        select3.deselect_by_value(option.get_attribute('value'))\n",
    "\n",
    "    # Seleciona o novo período\n",
    "    select3.select_by_visible_text(periodo)\n",
    "\n",
    "    # Aguarda até que o botão para acesso à planilha esteja disponível\n",
    "    botao_element = WebDriverWait(driver, 10).until(EC.element_to_be_clickable((By.XPATH, '/html/body/div/div/center/div/form/div[4]/div[2]/div[2]/input[1]')))\n",
    "\n",
    "    # Clica no botão para acesso à planilha\n",
    "    botao_element.click()\n",
    "\n",
    "    # Aguarda até que a nova aba esteja disponível\n",
    "    nova_aba = WebDriverWait(driver, 10).until(EC.number_of_windows_to_be(2))\n",
    "\n",
    "    # Muda para a nova aba\n",
    "    driver.switch_to.window(driver.window_handles[1])\n",
    "\n",
    "    # Aguarda um tempo de espera implícito para garantir que a página seja carregada completamente\n",
    "    driver.implicitly_wait(10)\n",
    "\n",
    "    # Extrai o HTML da página\n",
    "    html = driver.page_source\n",
    "    \n",
    "    # Analisa o HTML com BeautifulSoup\n",
    "    soup = BeautifulSoup(html, \"html.parser\")\n",
    "    \n",
    "    # Encontra o elemento tbody especificado pelo XPath\n",
    "    tbody_element = soup.find(\"table\").find(\"tbody\")\n",
    "    \n",
    "    # Encontra todas as linhas (tr) dentro do tbody\n",
    "    linhas_tbody = tbody_element.find_all(\"tr\")\n",
    "    \n",
    "    # Inicializa uma lista para armazenar os dados\n",
    "    dados = []\n",
    "    \n",
    "    # Loop sobre as linhas dentro do tbody\n",
    "    for linha in linhas_tbody:\n",
    "        # Extrai as células (td) na linha\n",
    "        celulas = linha.find_all(\"td\")\n",
    "        dados_linha = [celula.get_text(strip=True) for celula in celulas]\n",
    "        # Adiciona os dados da linha à lista de dados\n",
    "        dados.append(dados_linha)\n",
    "\n",
    "    # Converte a lista de dados em um DataFrame do Pandas\n",
    "    table = pd.DataFrame(dados)\n",
    "\n",
    "    # Adiciona o período como uma coluna no dataframe\n",
    "    table['Período'] = periodo\n",
    "\n",
    "    # Adiciona os dados ao dataframe total\n",
    "    df_total = pd.concat([df_total, table], ignore_index=True) #não pode mudar o nome do df_total\n",
    "\n",
    "    # Fecha a aba atual\n",
    "    driver.close()\n",
    "\n",
    "    # Mudar para a aba original\n",
    "    time.sleep(5)  \n",
    "    driver.switch_to.window(driver.window_handles[0])\n",
    "    "
   ]
  },
  {
   "cell_type": "code",
   "execution_count": 17,
   "id": "b9580f35-5b3c-471d-85bc-45fa36736930",
   "metadata": {},
   "outputs": [],
   "source": [
    "driver.quit()"
   ]
  },
  {
   "cell_type": "code",
   "execution_count": 18,
   "id": "2c74129c-7381-47e0-95e0-b38bf477b5bc",
   "metadata": {},
   "outputs": [
    {
     "name": "stdout",
     "output_type": "stream",
     "text": [
      "Number of Rows:180354\n"
     ]
    }
   ],
   "source": [
    "print (\"Number of Rows:{}\".format(df_total.shape[0]))"
   ]
  },
  {
   "cell_type": "code",
   "execution_count": 19,
   "id": "5bc82309-363f-410d-8268-96278f1b2ac6",
   "metadata": {},
   "outputs": [
    {
     "data": {
      "text/plain": [
       "array(['Jan/2019', 'Fev/2019', 'Mar/2019', 'Abr/2019', 'Mai/2019',\n",
       "       'Jun/2019', 'Jul/2019', 'Ago/2019', 'Set/2019', 'Out/2019',\n",
       "       'Nov/2019', 'Dez/2019', 'Jan/2020', 'Fev/2020', 'Mar/2020',\n",
       "       'Abr/2020', 'Mai/2020', 'Jun/2020', 'Jul/2020', 'Ago/2020',\n",
       "       'Set/2020', 'Out/2020', 'Nov/2020', 'Dez/2020', 'Jan/2021',\n",
       "       'Fev/2021', 'Mar/2021', 'Abr/2021', 'Mai/2021', 'Jun/2021',\n",
       "       'Jul/2021', 'Ago/2021', 'Set/2021', 'Out/2021', 'Nov/2021',\n",
       "       'Dez/2021', 'Jan/2022', 'Fev/2022', 'Mar/2022', 'Abr/2022',\n",
       "       'Mai/2022', 'Jun/2022', 'Jul/2022', 'Ago/2022', 'Set/2022',\n",
       "       'Out/2022', 'Nov/2022', 'Dez/2022', 'Jan/2023', 'Fev/2023',\n",
       "       'Mar/2023', 'Abr/2023', 'Mai/2023', 'Jun/2023', 'Jul/2023',\n",
       "       'Ago/2023', 'Set/2023', 'Out/2023', 'Nov/2023', 'Dez/2023'],\n",
       "      dtype=object)"
      ]
     },
     "execution_count": 19,
     "metadata": {},
     "output_type": "execute_result"
    }
   ],
   "source": [
    "df_total[\"Período\"].unique()"
   ]
  },
  {
   "cell_type": "markdown",
   "id": "dfb98b4e-b7a5-4862-b058-826c24f0dabd",
   "metadata": {},
   "source": [
    "## dados quantidade aprovada"
   ]
  },
  {
   "cell_type": "code",
   "execution_count": 6,
   "id": "8337bdc7-b60c-4d7d-a0cf-b8e769233d02",
   "metadata": {},
   "outputs": [],
   "source": [
    "#salvar os dados Quantidade aprovada\n",
    "df_total_qa = df_total.copy()\n",
    "df_total.to_csv('df_quantidade_aprovada.csv', index=False)"
   ]
  },
  {
   "cell_type": "code",
   "execution_count": 7,
   "id": "ac85e8cd-bc0b-4237-b0e2-7a802c5d1e8c",
   "metadata": {},
   "outputs": [
    {
     "data": {
      "text/html": [
       "<div>\n",
       "<style scoped>\n",
       "    .dataframe tbody tr th:only-of-type {\n",
       "        vertical-align: middle;\n",
       "    }\n",
       "\n",
       "    .dataframe tbody tr th {\n",
       "        vertical-align: top;\n",
       "    }\n",
       "\n",
       "    .dataframe thead th {\n",
       "        text-align: right;\n",
       "    }\n",
       "</style>\n",
       "<table border=\"1\" class=\"dataframe\">\n",
       "  <thead>\n",
       "    <tr style=\"text-align: right;\">\n",
       "      <th></th>\n",
       "      <th>0</th>\n",
       "      <th>1</th>\n",
       "      <th>2</th>\n",
       "      <th>3</th>\n",
       "      <th>4</th>\n",
       "      <th>5</th>\n",
       "      <th>6</th>\n",
       "      <th>7</th>\n",
       "      <th>8</th>\n",
       "      <th>9</th>\n",
       "      <th>Período</th>\n",
       "    </tr>\n",
       "  </thead>\n",
       "  <tbody>\n",
       "    <tr>\n",
       "      <th>0</th>\n",
       "      <td>TOTAL</td>\n",
       "      <td>211</td>\n",
       "      <td>13.531.483</td>\n",
       "      <td>10.103.301</td>\n",
       "      <td>962.775</td>\n",
       "      <td>41.317</td>\n",
       "      <td>250.768</td>\n",
       "      <td>220.658</td>\n",
       "      <td>3.516.251</td>\n",
       "      <td>28.626.764</td>\n",
       "      <td>Jan/2019</td>\n",
       "    </tr>\n",
       "    <tr>\n",
       "      <th>1</th>\n",
       "      <td>110001 ALTA FLORESTA D'OESTE</td>\n",
       "      <td>-</td>\n",
       "      <td>-</td>\n",
       "      <td>125</td>\n",
       "      <td>7</td>\n",
       "      <td>-</td>\n",
       "      <td>-</td>\n",
       "      <td>-</td>\n",
       "      <td>51</td>\n",
       "      <td>183</td>\n",
       "      <td>Jan/2019</td>\n",
       "    </tr>\n",
       "    <tr>\n",
       "      <th>2</th>\n",
       "      <td>110002 ARIQUEMES</td>\n",
       "      <td>-</td>\n",
       "      <td>136</td>\n",
       "      <td>2.888</td>\n",
       "      <td>859</td>\n",
       "      <td>-</td>\n",
       "      <td>14</td>\n",
       "      <td>4</td>\n",
       "      <td>1.147</td>\n",
       "      <td>5.048</td>\n",
       "      <td>Jan/2019</td>\n",
       "    </tr>\n",
       "    <tr>\n",
       "      <th>3</th>\n",
       "      <td>110003 CABIXI</td>\n",
       "      <td>-</td>\n",
       "      <td>20</td>\n",
       "      <td>20</td>\n",
       "      <td>-</td>\n",
       "      <td>-</td>\n",
       "      <td>-</td>\n",
       "      <td>-</td>\n",
       "      <td>12</td>\n",
       "      <td>52</td>\n",
       "      <td>Jan/2019</td>\n",
       "    </tr>\n",
       "    <tr>\n",
       "      <th>4</th>\n",
       "      <td>110004 CACOAL</td>\n",
       "      <td>-</td>\n",
       "      <td>8.870</td>\n",
       "      <td>15.976</td>\n",
       "      <td>924</td>\n",
       "      <td>2</td>\n",
       "      <td>5</td>\n",
       "      <td>95</td>\n",
       "      <td>2.556</td>\n",
       "      <td>28.428</td>\n",
       "      <td>Jan/2019</td>\n",
       "    </tr>\n",
       "  </tbody>\n",
       "</table>\n",
       "</div>"
      ],
      "text/plain": [
       "                              0    1           2           3        4       5  \\\n",
       "0                         TOTAL  211  13.531.483  10.103.301  962.775  41.317   \n",
       "1  110001 ALTA FLORESTA D'OESTE    -           -         125        7       -   \n",
       "2              110002 ARIQUEMES    -         136       2.888      859       -   \n",
       "3                 110003 CABIXI    -          20          20        -       -   \n",
       "4                 110004 CACOAL    -       8.870      15.976      924       2   \n",
       "\n",
       "         6        7          8           9   Período  \n",
       "0  250.768  220.658  3.516.251  28.626.764  Jan/2019  \n",
       "1        -        -         51         183  Jan/2019  \n",
       "2       14        4      1.147       5.048  Jan/2019  \n",
       "3        -        -         12          52  Jan/2019  \n",
       "4        5       95      2.556      28.428  Jan/2019  "
      ]
     },
     "execution_count": 7,
     "metadata": {},
     "output_type": "execute_result"
    }
   ],
   "source": [
    "df_total_qa.head()"
   ]
  },
  {
   "cell_type": "markdown",
   "id": "c5db3353-1795-4210-92fa-64024cb82926",
   "metadata": {},
   "source": [
    "## dados valor aprovado"
   ]
  },
  {
   "cell_type": "code",
   "execution_count": 20,
   "id": "dc636df9-c47d-4b06-8abd-e1dc8aa6378e",
   "metadata": {},
   "outputs": [],
   "source": [
    "df_total_va = df_total.copy()\n",
    "df_total.to_csv('df_valor_aprovado.csv', index=False)"
   ]
  },
  {
   "cell_type": "code",
   "execution_count": 21,
   "id": "f6f60ea6-3541-4769-8471-7461fb13620a",
   "metadata": {},
   "outputs": [
    {
     "data": {
      "text/html": [
       "<div>\n",
       "<style scoped>\n",
       "    .dataframe tbody tr th:only-of-type {\n",
       "        vertical-align: middle;\n",
       "    }\n",
       "\n",
       "    .dataframe tbody tr th {\n",
       "        vertical-align: top;\n",
       "    }\n",
       "\n",
       "    .dataframe thead th {\n",
       "        text-align: right;\n",
       "    }\n",
       "</style>\n",
       "<table border=\"1\" class=\"dataframe\">\n",
       "  <thead>\n",
       "    <tr style=\"text-align: right;\">\n",
       "      <th></th>\n",
       "      <th>0</th>\n",
       "      <th>1</th>\n",
       "      <th>2</th>\n",
       "      <th>3</th>\n",
       "      <th>4</th>\n",
       "      <th>5</th>\n",
       "      <th>6</th>\n",
       "      <th>7</th>\n",
       "      <th>8</th>\n",
       "      <th>Período</th>\n",
       "    </tr>\n",
       "  </thead>\n",
       "  <tbody>\n",
       "    <tr>\n",
       "      <th>0</th>\n",
       "      <td>TOTAL</td>\n",
       "      <td>55.246.070,34</td>\n",
       "      <td>340.159.908,29</td>\n",
       "      <td>395.912.811,40</td>\n",
       "      <td>54.748.172,55</td>\n",
       "      <td>7.724.936,34</td>\n",
       "      <td>120.504.442,87</td>\n",
       "      <td>313.977.961,67</td>\n",
       "      <td>1.288.274.303,46</td>\n",
       "      <td>Jan/2019</td>\n",
       "    </tr>\n",
       "    <tr>\n",
       "      <th>1</th>\n",
       "      <td>110001 ALTA FLORESTA D'OESTE</td>\n",
       "      <td>-</td>\n",
       "      <td>37.897,63</td>\n",
       "      <td>3.087,89</td>\n",
       "      <td>-</td>\n",
       "      <td>-</td>\n",
       "      <td>-</td>\n",
       "      <td>408,00</td>\n",
       "      <td>41.393,52</td>\n",
       "      <td>Jan/2019</td>\n",
       "    </tr>\n",
       "    <tr>\n",
       "      <th>2</th>\n",
       "      <td>110002 ARIQUEMES</td>\n",
       "      <td>1.056,29</td>\n",
       "      <td>128.329,40</td>\n",
       "      <td>99.413,85</td>\n",
       "      <td>-</td>\n",
       "      <td>1.037,96</td>\n",
       "      <td>-</td>\n",
       "      <td>118.467,79</td>\n",
       "      <td>348.305,29</td>\n",
       "      <td>Jan/2019</td>\n",
       "    </tr>\n",
       "    <tr>\n",
       "      <th>3</th>\n",
       "      <td>110003 CABIXI</td>\n",
       "      <td>-</td>\n",
       "      <td>5.981,97</td>\n",
       "      <td>-</td>\n",
       "      <td>-</td>\n",
       "      <td>-</td>\n",
       "      <td>-</td>\n",
       "      <td>96,00</td>\n",
       "      <td>6.077,97</td>\n",
       "      <td>Jan/2019</td>\n",
       "    </tr>\n",
       "    <tr>\n",
       "      <th>4</th>\n",
       "      <td>110004 CACOAL</td>\n",
       "      <td>69.881,30</td>\n",
       "      <td>267.911,33</td>\n",
       "      <td>312.777,55</td>\n",
       "      <td>1.914,76</td>\n",
       "      <td>466,40</td>\n",
       "      <td>31.446,75</td>\n",
       "      <td>363.285,36</td>\n",
       "      <td>1.047.683,45</td>\n",
       "      <td>Jan/2019</td>\n",
       "    </tr>\n",
       "  </tbody>\n",
       "</table>\n",
       "</div>"
      ],
      "text/plain": [
       "                              0              1               2  \\\n",
       "0                         TOTAL  55.246.070,34  340.159.908,29   \n",
       "1  110001 ALTA FLORESTA D'OESTE              -       37.897,63   \n",
       "2              110002 ARIQUEMES       1.056,29      128.329,40   \n",
       "3                 110003 CABIXI              -        5.981,97   \n",
       "4                 110004 CACOAL      69.881,30      267.911,33   \n",
       "\n",
       "                3              4             5               6  \\\n",
       "0  395.912.811,40  54.748.172,55  7.724.936,34  120.504.442,87   \n",
       "1        3.087,89              -             -               -   \n",
       "2       99.413,85              -      1.037,96               -   \n",
       "3               -              -             -               -   \n",
       "4      312.777,55       1.914,76        466,40       31.446,75   \n",
       "\n",
       "                7                 8   Período  \n",
       "0  313.977.961,67  1.288.274.303,46  Jan/2019  \n",
       "1          408,00         41.393,52  Jan/2019  \n",
       "2      118.467,79        348.305,29  Jan/2019  \n",
       "3           96,00          6.077,97  Jan/2019  \n",
       "4      363.285,36      1.047.683,45  Jan/2019  "
      ]
     },
     "execution_count": 21,
     "metadata": {},
     "output_type": "execute_result"
    }
   ],
   "source": [
    "df_total_va.head()"
   ]
  },
  {
   "cell_type": "markdown",
   "id": "c7cabf95-65cb-401a-a3a6-41387fdaf166",
   "metadata": {
    "jp-MarkdownHeadingCollapsed": true
   },
   "source": [
    "#### qualidade aprovada"
   ]
  },
  {
   "cell_type": "code",
   "execution_count": null,
   "id": "7f2ad3cd-d897-4b00-bb56-043c3a5d3d90",
   "metadata": {},
   "outputs": [],
   "source": [
    "df1_qa = df_raw_qa.copy()"
   ]
  },
  {
   "cell_type": "code",
   "execution_count": null,
   "id": "74a3f3bf-d0ac-4b70-ac94-0a4f18dd0fd3",
   "metadata": {},
   "outputs": [],
   "source": [
    "df1_qa.head()"
   ]
  },
  {
   "cell_type": "markdown",
   "id": "120656f5-a13a-44a0-b821-ddb20fefe430",
   "metadata": {
    "jp-MarkdownHeadingCollapsed": true
   },
   "source": [
    "#### valor aprovado"
   ]
  },
  {
   "cell_type": "code",
   "execution_count": null,
   "id": "114f5812-8691-4562-9dfa-b15898902d40",
   "metadata": {},
   "outputs": [],
   "source": [
    "df1_va = df_raw_va.copy()"
   ]
  },
  {
   "cell_type": "code",
   "execution_count": null,
   "id": "9e5b35d4-f96e-4b0e-bd34-525ffe2e7094",
   "metadata": {},
   "outputs": [],
   "source": [
    "df1_va.head()"
   ]
  },
  {
   "cell_type": "markdown",
   "id": "bca2ca68-9255-4e9a-96fb-8d371cc3083b",
   "metadata": {
    "jp-MarkdownHeadingCollapsed": true
   },
   "source": [
    "#### qualidade aprovada"
   ]
  },
  {
   "cell_type": "code",
   "execution_count": null,
   "id": "6d837914-e0bd-4193-b9ce-974e3fb87a38",
   "metadata": {},
   "outputs": [],
   "source": [
    "df1_qa.columns"
   ]
  },
  {
   "cell_type": "code",
   "execution_count": null,
   "id": "72fae35b-1e77-4039-beb0-1d5f36d2d439",
   "metadata": {},
   "outputs": [],
   "source": [
    "df1_qa = df1_qa.rename(columns={'0': 'qa_município',\n",
    "                                '1': 'qa_ações_de_promoção_e_prevenção_em_saúde',\n",
    "                                '2': 'qa_procedimentos_com_finalidade_diagnóstica',\n",
    "                                '3': 'qa_procedimentos_clínicos',\n",
    "                                '4': 'qa_procedimentos_cirúrgicos',\n",
    "                                '5': 'qa_transplantes_de_orgãos_tecidos_e_células',\n",
    "                                '6': 'qa_medicamentos',\n",
    "                                '7': 'qa_órteses_próteses_e_materiais_especiais',\n",
    "                                '8': 'qa_ações_complementares_da_atenção_à_saúde',\n",
    "                                '9':'qa_total',\n",
    "                                'Período': 'qa_período'})"
   ]
  },
  {
   "cell_type": "code",
   "execution_count": null,
   "id": "c183ecda-02e7-46ef-9582-aa8bbe78064b",
   "metadata": {},
   "outputs": [],
   "source": [
    "df1_qa.head()"
   ]
  },
  {
   "cell_type": "markdown",
   "id": "10a36b4c-a888-4e46-8bbb-49917c689272",
   "metadata": {
    "jp-MarkdownHeadingCollapsed": true
   },
   "source": [
    "#### valor aprovado"
   ]
  },
  {
   "cell_type": "code",
   "execution_count": null,
   "id": "23c63427-5442-4ea6-a571-95497c477569",
   "metadata": {},
   "outputs": [],
   "source": [
    "df1_va.columns"
   ]
  },
  {
   "cell_type": "code",
   "execution_count": null,
   "id": "98c3a1c7-1ca3-496b-a4b8-706ecc1c9a52",
   "metadata": {},
   "outputs": [],
   "source": [
    "df1_va = df1_va.rename(columns={'0': 'va_município',\n",
    "                                '1': 'va_procedimentos_com_finalidade_diagnóstica',\n",
    "                                '2': 'va_procedimentos_clínicos',\n",
    "                                '3': 'va_procedimentos_cirúrgicos',\n",
    "                                '4': 'va_transplantes_de_orgãos_tecidos_e_células',\n",
    "                                '5': 'va_medicamentos',\n",
    "                                '6': 'va_órteses_próteses_e_materiais_especiais',\n",
    "                                '7': 'va_ações_complementares_da_atenção_à_saúde',\n",
    "                                '8':'va_total',\n",
    "                                'Período': 'va_período'})"
   ]
  },
  {
   "cell_type": "code",
   "execution_count": null,
   "id": "3cfbd867-355f-4579-a38c-a8d44bf6efe1",
   "metadata": {},
   "outputs": [],
   "source": [
    "df1_va.head()"
   ]
  },
  {
   "cell_type": "markdown",
   "id": "ba1bce3d-54cf-435a-91d7-88fc48fdda7e",
   "metadata": {},
   "source": [
    "#### qualidade aprovada"
   ]
  },
  {
   "cell_type": "code",
   "execution_count": null,
   "id": "6237691a-d969-4532-9f9f-ce178ec78d5b",
   "metadata": {},
   "outputs": [],
   "source": [
    "print (\"Number of Rows:{}\".format(df1_qa.shape[0]))\n",
    "print (\"Number of Cols:{}\".format(df1_qa.shape[1]))"
   ]
  },
  {
   "cell_type": "markdown",
   "id": "eb25c227-b3d0-4d90-a0a9-197ee264c234",
   "metadata": {
    "jp-MarkdownHeadingCollapsed": true
   },
   "source": [
    "#### valor aprovada"
   ]
  },
  {
   "cell_type": "code",
   "execution_count": null,
   "id": "0ade4f2f-3486-4db8-b24f-d0efe740f26a",
   "metadata": {},
   "outputs": [],
   "source": [
    "print (\"Number of Rows:{}\".format(df1_va.shape[0]))\n",
    "print (\"Number of Cols:{}\".format(df1_va.shape[1]))"
   ]
  },
  {
   "cell_type": "markdown",
   "id": "ca0ead8c-a9b1-4a52-b9c2-f6a8886e81ec",
   "metadata": {
    "jp-MarkdownHeadingCollapsed": true
   },
   "source": [
    "## 2.2 Data Types"
   ]
  },
  {
   "cell_type": "markdown",
   "id": "50e4e09c-d275-4cf1-ab15-d0e81d50bcf4",
   "metadata": {},
   "source": [
    "#### qualidade aprovada"
   ]
  },
  {
   "cell_type": "code",
   "execution_count": null,
   "id": "665d7ff3-7ce1-4010-b434-7828ed7e5933",
   "metadata": {},
   "outputs": [],
   "source": [
    "df1_qa.dtypes"
   ]
  },
  {
   "cell_type": "code",
   "execution_count": null,
   "id": "88be9d91-5383-4a25-af97-cba8c36b6f70",
   "metadata": {},
   "outputs": [],
   "source": [
    "df1_va.isna().sum()"
   ]
  },
  {
   "cell_type": "markdown",
   "id": "0309d66b-3b2a-42c1-a44e-a3909a81b53d",
   "metadata": {
    "jp-MarkdownHeadingCollapsed": true
   },
   "source": [
    "## 2.4 Fillout NA"
   ]
  },
  {
   "cell_type": "markdown",
   "id": "7a7dc628-9da8-4efe-8078-0b51a9936762",
   "metadata": {},
   "source": [
    "#### qualidade aprovada"
   ]
  },
  {
   "cell_type": "code",
   "execution_count": null,
   "id": "fbca9814-29fb-40b7-bc01-8a64833a911e",
   "metadata": {},
   "outputs": [],
   "source": [
    "df1_qa.replace('-', 0, inplace=True)"
   ]
  },
  {
   "cell_type": "code",
   "execution_count": null,
   "id": "8adf13e8-fd90-4b14-80d1-7861a8e606a8",
   "metadata": {},
   "outputs": [],
   "source": [
    "df1_qa.head()"
   ]
  },
  {
   "cell_type": "markdown",
   "id": "b132b9c6-4be3-4c67-bd29-035de6431642",
   "metadata": {
    "jp-MarkdownHeadingCollapsed": true
   },
   "source": [
    "#### valor aprovado"
   ]
  },
  {
   "cell_type": "code",
   "execution_count": null,
   "id": "021dae58-ddcf-4c0d-8bbe-38d7e296c2ff",
   "metadata": {},
   "outputs": [],
   "source": [
    "df1_va.replace('-', 0, inplace=True)\n"
   ]
  },
  {
   "cell_type": "code",
   "execution_count": null,
   "id": "b939731c-2cdc-4223-b7cd-87123ed15212",
   "metadata": {},
   "outputs": [],
   "source": [
    "df1_va.head()"
   ]
  },
  {
   "cell_type": "code",
   "execution_count": null,
   "id": "07df5af6-9d02-430a-b107-3079725bc526",
   "metadata": {},
   "outputs": [],
   "source": []
  },
  {
   "cell_type": "markdown",
   "id": "a949f17c-e1de-49c8-96b3-28d80040cb24",
   "metadata": {
    "jp-MarkdownHeadingCollapsed": true
   },
   "source": [
    "## 2.5 Change Types "
   ]
  },
  {
   "cell_type": "markdown",
   "id": "e12a2f72-86ea-478c-9978-5e6b2e98ba03",
   "metadata": {},
   "source": [
    "### Qualidade Aprovada"
   ]
  },
  {
   "cell_type": "code",
   "execution_count": null,
   "id": "61f034b4-c95b-4a1e-9c8d-89456d9aa25d",
   "metadata": {},
   "outputs": [],
   "source": [
    "df1_qa.columns"
   ]
  },
  {
   "cell_type": "code",
   "execution_count": null,
   "id": "fb802483-4264-4730-b571-96e7e825b907",
   "metadata": {},
   "outputs": [],
   "source": [
    "# Remover pontos das strings e converter para números inteiros nas colunas de 2 a 10\n",
    "df1_qa.iloc[:, 1:10] = df1_qa.iloc[:, 1:10].replace('\\.', '', regex=True).astype(int)\n"
   ]
  },
  {
   "cell_type": "code",
   "execution_count": null,
   "id": "c378a355-e645-4d2b-ab40-e6ac571524c0",
   "metadata": {
    "scrolled": true
   },
   "outputs": [],
   "source": [
    "df1_qa.head()"
   ]
  },
  {
   "cell_type": "code",
   "execution_count": null,
   "id": "20c692d9-ea54-4eb7-adef-7afe2d122de0",
   "metadata": {},
   "outputs": [],
   "source": [
    "# Converter para int\n",
    "df1_qa['qa_ações_de_promoção_e_prevenção_em_saúde'] = df1_qa['qa_ações_de_promoção_e_prevenção_em_saúde'].astype(int)\n",
    "df1_qa['qa_procedimentos_com_finalidade_diagnóstica'] = df1_qa['qa_procedimentos_com_finalidade_diagnóstica'].astype(int)\n",
    "df1_qa['qa_procedimentos_clínicos'] = df1_qa['qa_procedimentos_clínicos'].astype(int)\n",
    "df1_qa['qa_procedimentos_cirúrgicos'] = df1_qa['qa_procedimentos_cirúrgicos'].astype(int)\n",
    "df1_qa['qa_transplantes_de_orgãos_tecidos_e_células'] = df1_qa['qa_transplantes_de_orgãos_tecidos_e_células'].astype(int)\n",
    "df1_qa['qa_medicamentos'] = df1_qa['qa_medicamentos'].astype(int)\n",
    "df1_qa['qa_órteses_próteses_e_materiais_especiais'] = df1_qa['qa_órteses_próteses_e_materiais_especiais'].astype(int)\n",
    "df1_qa['qa_ações_complementares_da_atenção_à_saúde'] = df1_qa['qa_ações_complementares_da_atenção_à_saúde'].astype(int)\n",
    "df1_qa['qa_total'] = df1_qa['qa_total'].astype(int)\n"
   ]
  },
  {
   "cell_type": "code",
   "execution_count": null,
   "id": "3b5884fb-d4bf-4ed0-90c3-39cb4a4d6068",
   "metadata": {},
   "outputs": [],
   "source": [
    "# Separar em mês e ano\n",
    "df1_qa[['qa_mês', 'qa_ano']] = df1_qa['qa_período'].str.split('/', expand=True)"
   ]
  },
  {
   "cell_type": "code",
   "execution_count": null,
   "id": "6a3a8ee1-45a3-475b-8cc9-f1a777f113cd",
   "metadata": {},
   "outputs": [],
   "source": [
    "df1_qa['qa_ano'] = df1_qa['qa_ano'].astype(int)"
   ]
  },
  {
   "cell_type": "code",
   "execution_count": null,
   "id": "e009847d-a59a-4f82-9001-efc21f2401d3",
   "metadata": {},
   "outputs": [],
   "source": [
    "# Converte o mês de texto para o número do mês\n",
    "meses_dict = {'Jan': 1, 'Fev': 2, 'Mar': 3, 'Abr': 4, 'Mai': 5, 'Jun': 6, 'Jul': 7, 'Ago': 8, 'Set': 9, 'Out': 10, 'Nov': 11, 'Dez': 12}\n",
    "df1_qa['qa_dia_mês'] = df1_qa['qa_mês'].map(meses_dict)\n"
   ]
  },
  {
   "cell_type": "code",
   "execution_count": null,
   "id": "50721882-d913-40fa-aeee-2279955a610f",
   "metadata": {},
   "outputs": [],
   "source": [
    "df1_qa.dtypes"
   ]
  },
  {
   "cell_type": "code",
   "execution_count": null,
   "id": "4f35d383-ce70-451e-ae1f-8adbc83ea1e8",
   "metadata": {},
   "outputs": [],
   "source": [
    "df1_qa.head()"
   ]
  },
  {
   "cell_type": "code",
   "execution_count": null,
   "id": "11ee5fd2-94c0-4989-a21b-14575e726c4c",
   "metadata": {},
   "outputs": [],
   "source": [
    "# Converter para números inteiros\n",
    "#df1.iloc[:, 2:10] = pd.to_numeric(df1.iloc[:, 2:10].stack(), errors='coerce').fillna(0).astype(int).unstack()\n"
   ]
  },
  {
   "cell_type": "markdown",
   "id": "56db9a6c-4260-40ce-9ad1-b9f2fb34bdd0",
   "metadata": {
    "jp-MarkdownHeadingCollapsed": true
   },
   "source": [
    "### Valor aprovado"
   ]
  },
  {
   "cell_type": "code",
   "execution_count": null,
   "id": "bdc9ca27-b5ae-488f-834c-b5ee23977767",
   "metadata": {},
   "outputs": [],
   "source": [
    "df1_va.columns"
   ]
  },
  {
   "cell_type": "code",
   "execution_count": null,
   "id": "0528f324-f246-4f81-9a3e-5248b71c7251",
   "metadata": {},
   "outputs": [],
   "source": [
    "# Substituir os pontos de milhar por uma string vazia e trocar a vírgula por ponto\n",
    "df1_va.iloc[:, 1:9] = df1_va.iloc[:, 1:9].replace('\\.', '', regex=True).replace(',', '.', regex=True).astype(float)\n"
   ]
  },
  {
   "cell_type": "code",
   "execution_count": null,
   "id": "68b21fdc-41d9-44f5-bb9b-8cd6b70c95b7",
   "metadata": {},
   "outputs": [],
   "source": [
    "# Converter para int\n",
    "df1_va['va_procedimentos_com_finalidade_diagnóstica'] = df1_va['va_procedimentos_com_finalidade_diagnóstica'].astype(float)\n",
    "df1_va['va_procedimentos_clínicos'] = df1_va['va_procedimentos_clínicos'].astype(float)\n",
    "df1_va['va_procedimentos_cirúrgicos'] = df1_va['va_procedimentos_cirúrgicos'].astype(float)\n",
    "df1_va['va_transplantes_de_orgãos_tecidos_e_células'] = df1_va['va_transplantes_de_orgãos_tecidos_e_células'].astype(float)\n",
    "df1_va['va_medicamentos'] = df1_va['va_medicamentos'].astype(float)\n",
    "df1_va['va_órteses_próteses_e_materiais_especiais'] = df1_va['va_órteses_próteses_e_materiais_especiais'].astype(float)\n",
    "df1_va['va_ações_complementares_da_atenção_à_saúde'] = df1_va['va_ações_complementares_da_atenção_à_saúde'].astype(float)\n",
    "df1_va['va_total'] = df1_va['va_total'].astype(float)\n"
   ]
  },
  {
   "cell_type": "code",
   "execution_count": null,
   "id": "3b89040c-b9a5-44a4-aa26-2321d220f185",
   "metadata": {},
   "outputs": [],
   "source": [
    "# Separar em mês e ano\n",
    "df1_va[['va_mês', 'va_ano']] = df1_va['va_período'].str.split('/', expand=True)\n"
   ]
  },
  {
   "cell_type": "code",
   "execution_count": null,
   "id": "ca223cbf-bb16-4608-a015-d45e94d7f348",
   "metadata": {},
   "outputs": [],
   "source": [
    "#df1_va['ano'] = df1_va['ano'].astype(int)"
   ]
  },
  {
   "cell_type": "code",
   "execution_count": null,
   "id": "d744c6d4-90a2-4001-8c63-e828460b15a7",
   "metadata": {},
   "outputs": [],
   "source": [
    "df1_va['va_período'] = pd.to_datetime(df1_va['va_período'], format='%b/%Y')\n"
   ]
  },
  {
   "cell_type": "code",
   "execution_count": null,
   "id": "f63c9346-a963-43e4-85ee-24367f4347a1",
   "metadata": {},
   "outputs": [],
   "source": [
    "# Converte o mês de texto para o número do mês\n",
    "meses_dict = {'Jan': 1, 'Fev': 2, 'Mar': 3, 'Abr': 4, 'Mai': 5, 'Jun': 6, 'Jul': 7, 'Ago': 8, 'Set': 9, 'Out': 10, 'Nov': 11, 'Dez': 12}\n",
    "df1_va['va_dia_mês'] = df1_va['va_mês'].map(meses_dict)\n"
   ]
  },
  {
   "cell_type": "code",
   "execution_count": null,
   "id": "c31d7828-35a3-41d4-85eb-e8d3f06f886a",
   "metadata": {},
   "outputs": [],
   "source": [
    "df1_va.dtypes"
   ]
  },
  {
   "cell_type": "code",
   "execution_count": null,
   "id": "79493181-e344-4eb9-92f0-0c9f10c69c97",
   "metadata": {},
   "outputs": [],
   "source": [
    "pd.set_option('display.float_format', '{:.2f}'.format)\n"
   ]
  },
  {
   "cell_type": "code",
   "execution_count": null,
   "id": "c275a58f-68ca-4b57-b4a4-9c93a8384b38",
   "metadata": {},
   "outputs": [],
   "source": [
    "df1_va.head()"
   ]
  },
  {
   "cell_type": "markdown",
   "id": "7f6991b0-1ecb-4126-92e6-620ff5aa3a6e",
   "metadata": {},
   "source": [
    "### Merge datasets"
   ]
  },
  {
   "cell_type": "code",
   "execution_count": null,
   "id": "3cc9416e-4351-4f27-bedd-85534cc735b6",
   "metadata": {},
   "outputs": [],
   "source": [
    "df_agrupado = pd.concat([df1_qa, df1_va], axis=1)\n"
   ]
  },
  {
   "cell_type": "code",
   "execution_count": null,
   "id": "79040a3d-758b-41e7-a9a6-58ff756e964e",
   "metadata": {},
   "outputs": [],
   "source": [
    "df_agrupado.head()"
   ]
  },
  {
   "cell_type": "code",
   "execution_count": null,
   "id": "eb9cbdd9-bd54-435f-b5d3-9784e20b0606",
   "metadata": {},
   "outputs": [],
   "source": [
    "df1_num=df_agrupado.select_dtypes(include=['int64', 'float64'])\n",
    "df1_cat=df_agrupado.select_dtypes(exclude=['int64', 'float64', 'datetime'])"
   ]
  },
  {
   "cell_type": "code",
   "execution_count": null,
   "id": "660075bd-088c-46e8-901b-0601aa0ea18d",
   "metadata": {},
   "outputs": [],
   "source": [
    "\n",
    "# ======Aqui chama o site e abre o chrome navegador=======\n",
    "url = \"https://datasus.saude.gov.br/informacoes-de-saude-tabnet/\"\n",
    "options = webdriver.ChromeOptions()\n",
    "# options.add_argument(\"--headless\")\n",
    "# options.add_argument(\"--no-sandbox\")\n",
    "\n",
    "servico = Service(ChromeDriverManager().install())\n",
    "driver = webdriver.Chrome(options=options, service=servico)\n",
    "driver.get(url)\n",
    "\n",
    "# Aguarda até que o elemento da lista esteja presente e visível na página\n",
    "toggle_element = WebDriverWait(driver, 10).until(EC.visibility_of_element_located((By.XPATH, \"//div[@id='elementor-tab-title-2152']\")))\n",
    "toggle_element.click()\n",
    "\n",
    "# Aguarda até que a página carregue completamente\n",
    "time.sleep(1)\n",
    "\n",
    "# Rola a página para o elemento da lista\n",
    "driver.execute_script(\"arguments[0].scrollIntoView(true);\", toggle_element)\n",
    "\n",
    "# Aguarda até que o link \"Produção Hospitalar (SIH/SUS)\" esteja presente e visível na página\n",
    "link_element = WebDriverWait(driver, 10).until(EC.visibility_of_element_located((By.XPATH, '//*[@id=\"elementor-tab-content-2152\"]/ul/li[1]/span/a')))\n",
    "driver.execute_script(\"arguments[0].scrollIntoView(true);\", link_element)  # Rola a página para o elemento\n",
    "link_element.click()\n",
    "\n",
    "# Aguarda até que a página \"Produção Hospitalar (SIH/SUS)\" carregue completamente\n",
    "time.sleep(1)\n",
    "\n",
    "# Webscraping na página \"Produção Hospitalar (SIH/SUS)\"\n",
    "\n",
    "## Selecionando a primeira opção \"Dados Detalhados de AIH (SP), por local de internação, 2008 em diante\"\n",
    "# Localiza o elemento de input com o XPath desejado\n",
    "input_xpath = '//*[@id=\"infesq\"]/input[6]'\n",
    "input_element = driver.find_element(By.XPATH, input_xpath)\n",
    "\n",
    "# Localiza o elemento rádio pelo atributo \"value\"\n",
    "radio_option_xpath = '//input[@type=\"radio\" and @name=\"radiobutton\" and @value=\" http://tabnet.datasus.gov.br/cgi/deftohtm.exe?sih/cnv/spa\"]'\n",
    "radio_option_element = driver.find_element(By.XPATH, radio_option_xpath)\n",
    "\n",
    "# Clica na opção radio\n",
    "radio_option_element.click()\n",
    "\n",
    "## Selecionando a segunda opção \"Brasil por municipios\"\n",
    "# Localiza o elemento <select> pelo id\n",
    "select_element = driver.find_element(By.ID, \"mySelect\")\n",
    "\n",
    "# Seleciona a segunda opção pelo texto\n",
    "select = Select(select_element)\n",
    "select.select_by_visible_text('Brasil por Municípios')\n",
    "\n",
    "# ======Períodos disponíveis======= (Quantidade_aprovada)\n",
    "periodos = [\"Nov/2023\", \"Dez/2023\"]\n",
    "\n",
    "# Tipos de dados disponíveis\n",
    "#tipos_dados = [\"Quantidade_aprovada\", \"Valor_aprovado\"]\n",
    "\n",
    "# Inicializa um dataframe vazio para armazenar os dados\n",
    "df_total = pd.DataFrame()\n",
    "\n",
    "\n"
   ]
  },
  {
   "cell_type": "code",
   "execution_count": null,
   "id": "853adcda-f8db-45f9-99ed-9fb6de1b214e",
   "metadata": {},
   "outputs": [],
   "source": []
  }
 ],
 "metadata": {
  "kernelspec": {
   "display_name": "python(ProjetoIntegrador3)",
   "language": "python",
   "name": "projetointegrador3"
  },
  "language_info": {
   "codemirror_mode": {
    "name": "ipython",
    "version": 3
   },
   "file_extension": ".py",
   "mimetype": "text/x-python",
   "name": "python",
   "nbconvert_exporter": "python",
   "pygments_lexer": "ipython3",
   "version": "3.10.13"
  }
 },
 "nbformat": 4,
 "nbformat_minor": 5
}
